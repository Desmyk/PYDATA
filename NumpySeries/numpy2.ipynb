{
  "nbformat": 4,
  "nbformat_minor": 0,
  "metadata": {
    "colab": {
      "provenance": [],
      "authorship_tag": "ABX9TyNDDOadLkMewBR3D2Jz1jh+",
      "include_colab_link": true
    },
    "kernelspec": {
      "name": "python3",
      "display_name": "Python 3"
    },
    "language_info": {
      "name": "python"
    }
  },
  "cells": [
    {
      "cell_type": "markdown",
      "metadata": {
        "id": "view-in-github",
        "colab_type": "text"
      },
      "source": [
        "<a href=\"https://colab.research.google.com/github/Desmyk/PYDATA/blob/main/numpytest2.ipynb\" target=\"_parent\"><img src=\"https://colab.research.google.com/assets/colab-badge.svg\" alt=\"Open In Colab\"/></a>"
      ]
    },
    {
      "cell_type": "code",
      "execution_count": 3,
      "metadata": {
        "id": "1oB9IZD33hEr"
      },
      "outputs": [],
      "source": [
        "import numpy as np"
      ]
    },
    {
      "cell_type": "code",
      "source": [
        "# How to add a border (filled with 0's) around an existing array?\n",
        "\n",
        "a = np.random.random((4, 5))\n",
        "m, n = a.shape\n",
        "b = np.pad(a, 1)\n",
        "print(b)"
      ],
      "metadata": {
        "colab": {
          "base_uri": "https://localhost:8080/"
        },
        "id": "H_KH1Lvi3pby",
        "outputId": "2d936c2a-9d00-43eb-b98a-4f3dcd707c1d"
      },
      "execution_count": 35,
      "outputs": [
        {
          "output_type": "stream",
          "name": "stdout",
          "text": [
            "[[0.         0.         0.         0.         0.         0.\n",
            "  0.        ]\n",
            " [0.         0.55358663 0.58992626 0.56954343 0.03184257 0.65613241\n",
            "  0.        ]\n",
            " [0.         0.76057462 0.02281701 0.72551675 0.54887231 0.5771922\n",
            "  0.        ]\n",
            " [0.         0.65051388 0.99998735 0.97241665 0.16600436 0.19220841\n",
            "  0.        ]\n",
            " [0.         0.64822317 0.02709501 0.2991171  0.96847536 0.68397013\n",
            "  0.        ]\n",
            " [0.         0.         0.         0.         0.         0.\n",
            "  0.        ]]\n"
          ]
        }
      ]
    },
    {
      "cell_type": "code",
      "source": [
        " # What is the result of the following expression?\n",
        "\n",
        " 0 * np.nan\n",
        "np.nan == np.nan\n",
        "np.inf > np.nan\n",
        "np.nan - np.nan\n",
        "np.nan in set([np.nan])\n",
        "0.3 == 3 * 0.1"
      ],
      "metadata": {
        "colab": {
          "base_uri": "https://localhost:8080/"
        },
        "id": "ROW5kfGk3p5Z",
        "outputId": "21faa2c1-35b5-4e04-91d9-c90ec4be09f5"
      },
      "execution_count": 27,
      "outputs": [
        {
          "output_type": "execute_result",
          "data": {
            "text/plain": [
              "False"
            ]
          },
          "metadata": {},
          "execution_count": 27
        }
      ]
    },
    {
      "cell_type": "code",
      "source": [
        "# Create a 5x5 matrix with values 1,2,3,4 just below the diagonal\n",
        "\n",
        "X = np.diag([1, 2, 3, 4, 5])\n",
        "print(X)"
      ],
      "metadata": {
        "colab": {
          "base_uri": "https://localhost:8080/"
        },
        "id": "MtMZRXj43qTw",
        "outputId": "cf1dac17-7bd6-4f9f-ff5d-0877a25dffa2"
      },
      "execution_count": 36,
      "outputs": [
        {
          "output_type": "stream",
          "name": "stdout",
          "text": [
            "[[1 0 0 0 0]\n",
            " [0 2 0 0 0]\n",
            " [0 0 3 0 0]\n",
            " [0 0 0 4 0]\n",
            " [0 0 0 0 5]]\n"
          ]
        }
      ]
    },
    {
      "cell_type": "code",
      "source": [
        "# Create a 8x8 matrix and fill it with a checkerboard pattern\n",
        "\n",
        "X = np.zeros((8,8),dtype=int)\n",
        "X[1::2,::2]=1\n",
        "X[::2,1::2]=1\n",
        "print(X)"
      ],
      "metadata": {
        "colab": {
          "base_uri": "https://localhost:8080/"
        },
        "id": "gQV7c7w73qnn",
        "outputId": "b41000e5-d534-4794-bfef-535f37939af5"
      },
      "execution_count": 10,
      "outputs": [
        {
          "output_type": "stream",
          "name": "stdout",
          "text": [
            "[[0 1 0 1 0 1 0 1]\n",
            " [1 0 1 0 1 0 1 0]\n",
            " [0 1 0 1 0 1 0 1]\n",
            " [1 0 1 0 1 0 1 0]\n",
            " [0 1 0 1 0 1 0 1]\n",
            " [1 0 1 0 1 0 1 0]\n",
            " [0 1 0 1 0 1 0 1]\n",
            " [1 0 1 0 1 0 1 0]]\n"
          ]
        }
      ]
    },
    {
      "cell_type": "code",
      "source": [
        "# Consider a (6,7,8) shape array, what is the index (x,y,z) of the 100th element?\n",
        "\n",
        "print(np.unravel_index(100,(6,7,8)))"
      ],
      "metadata": {
        "colab": {
          "base_uri": "https://localhost:8080/"
        },
        "id": "vmxPgn6H3q7T",
        "outputId": "de98f652-e957-495a-b7c6-104ccae7a5b9"
      },
      "execution_count": 5,
      "outputs": [
        {
          "output_type": "stream",
          "name": "stdout",
          "text": [
            "(1, 5, 4)\n"
          ]
        }
      ]
    },
    {
      "cell_type": "code",
      "source": [
        " # Create a checkerboard 8x8 matrix using the tile function\n",
        "X = np.tile(np.array([[0,1],[1,0]]),(4,4))\n",
        "print(X)\n"
      ],
      "metadata": {
        "colab": {
          "base_uri": "https://localhost:8080/"
        },
        "id": "dyKMwwKc3rTS",
        "outputId": "ee4f3ce0-1718-4c76-cd0f-8776b2443b78"
      },
      "execution_count": 26,
      "outputs": [
        {
          "output_type": "stream",
          "name": "stdout",
          "text": [
            "[[0 1 0 1 0 1 0 1]\n",
            " [1 0 1 0 1 0 1 0]\n",
            " [0 1 0 1 0 1 0 1]\n",
            " [1 0 1 0 1 0 1 0]\n",
            " [0 1 0 1 0 1 0 1]\n",
            " [1 0 1 0 1 0 1 0]\n",
            " [0 1 0 1 0 1 0 1]\n",
            " [1 0 1 0 1 0 1 0]]\n"
          ]
        }
      ]
    },
    {
      "cell_type": "code",
      "source": [
        "# Normalize a 5x5 random matrix\n",
        "\n",
        "X = np.random.random((5,5))\n",
        "Xmax,Xmin=X.max(),X.min()\n",
        "X =(X-Xmin)/(Xmax-Xmin)\n",
        "print(X)\n"
      ],
      "metadata": {
        "colab": {
          "base_uri": "https://localhost:8080/"
        },
        "id": "uT0stFBJ3sCK",
        "outputId": "33823e58-7bad-498e-c120-5555a753f61a"
      },
      "execution_count": 13,
      "outputs": [
        {
          "output_type": "stream",
          "name": "stdout",
          "text": [
            "[[0.39564844 0.93548549 0.85144663 0.4484104  1.        ]\n",
            " [0.28359181 0.71955673 0.         0.66314439 0.13054192]\n",
            " [0.82423059 0.48872546 0.77967593 0.55965352 0.55508624]\n",
            " [0.64952212 0.33282046 0.48129014 0.82285786 0.59746363]\n",
            " [0.98064425 0.2748113  0.15852098 0.1033447  0.02979015]]\n"
          ]
        }
      ]
    },
    {
      "cell_type": "code",
      "source": [
        "# Create a custom dtype that describes a color as four unsigned bytes (RGBA)\n",
        "\n",
        "color=np.dtype([(\"r\",np.ubyte,1),\n",
        "                (\"g\",np.ubyte,1),\n",
        "                (\"b\",np.ubyte,1),\n",
        "                (\"a\",np.ubyte,1)])"
      ],
      "metadata": {
        "colab": {
          "base_uri": "https://localhost:8080/"
        },
        "id": "RyXcrDH-3sZE",
        "outputId": "93c3a808-756a-4689-e019-9776baefad0b"
      },
      "execution_count": 7,
      "outputs": [
        {
          "output_type": "stream",
          "name": "stderr",
          "text": [
            "<ipython-input-7-f54b7ee2ad8e>:3: FutureWarning: Passing (type, 1) or '1type' as a synonym of type is deprecated; in a future version of numpy, it will be understood as (type, (1,)) / '(1,)type'.\n",
            "  color=np.dtype([(\"r\",np.ubyte,1),\n"
          ]
        }
      ]
    },
    {
      "cell_type": "code",
      "source": [
        "# Multiply a 5x3 matrix by a 3x2 matrix (real matrix product)\n",
        "\n",
        "X = np.dot(np.ones((5,3)),np.ones((3,2)))\n",
        "print(X)"
      ],
      "metadata": {
        "colab": {
          "base_uri": "https://localhost:8080/"
        },
        "id": "zu_zECkH3s0F",
        "outputId": "31db3f24-114b-4403-96cf-f33b3cb11a36"
      },
      "execution_count": 9,
      "outputs": [
        {
          "output_type": "stream",
          "name": "stdout",
          "text": [
            "[[3. 3.]\n",
            " [3. 3.]\n",
            " [3. 3.]\n",
            " [3. 3.]\n",
            " [3. 3.]]\n"
          ]
        }
      ]
    },
    {
      "cell_type": "code",
      "source": [
        "# Given a 1D array, negate all elements which are between 3 and 8, in place\n",
        "\n",
        "X = np.arange(11)\n",
        "X[(3<X)&(X<=8)]*=-1\n",
        "print(X)"
      ],
      "metadata": {
        "colab": {
          "base_uri": "https://localhost:8080/"
        },
        "id": "pmVW_0vP3tVY",
        "outputId": "daefa67f-69a8-4ab4-eb08-816c865e5dbe"
      },
      "execution_count": 16,
      "outputs": [
        {
          "output_type": "stream",
          "name": "stdout",
          "text": [
            "[ 0  1  2  3 -4 -5 -6 -7 -8  9 10]\n"
          ]
        }
      ]
    },
    {
      "cell_type": "code",
      "source": [
        "# What is the output of the following script?\n",
        "# Author: Jake VanderPlas\n",
        "\n",
        "print(sum(range(5),-1))\n",
        "from numpy import *\n",
        "print(sum(range(5),-1))"
      ],
      "metadata": {
        "colab": {
          "base_uri": "https://localhost:8080/"
        },
        "id": "-kbSOFgVWSuW",
        "outputId": "d9148495-c693-45bf-d9a6-c5089a57de75"
      },
      "execution_count": 25,
      "outputs": [
        {
          "output_type": "stream",
          "name": "stdout",
          "text": [
            "9\n",
            "10\n"
          ]
        }
      ]
    },
    {
      "cell_type": "code",
      "source": [
        "#  Consider an integer vector Z, which of these expressions are legal?\n",
        "\n",
        "#This code has no syntax errors.\n",
        "[1j*X]\n",
        "[X/1/1]\n",
        "\n"
      ],
      "metadata": {
        "colab": {
          "base_uri": "https://localhost:8080/"
        },
        "id": "MmhtXIoWWTWb",
        "outputId": "2668d8dd-4abb-4322-a4cf-3243ca5466a8"
      },
      "execution_count": 32,
      "outputs": [
        {
          "output_type": "execute_result",
          "data": {
            "text/plain": [
              "[array([[0., 1., 0., 1., 0., 1., 0., 1.],\n",
              "        [1., 0., 1., 0., 1., 0., 1., 0.],\n",
              "        [0., 1., 0., 1., 0., 1., 0., 1.],\n",
              "        [1., 0., 1., 0., 1., 0., 1., 0.],\n",
              "        [0., 1., 0., 1., 0., 1., 0., 1.],\n",
              "        [1., 0., 1., 0., 1., 0., 1., 0.],\n",
              "        [0., 1., 0., 1., 0., 1., 0., 1.],\n",
              "        [1., 0., 1., 0., 1., 0., 1., 0.]])]"
            ]
          },
          "metadata": {},
          "execution_count": 32
        }
      ]
    },
    {
      "cell_type": "code",
      "source": [
        "#  What are the result of the following expressions?\n",
        "np.array(0) / np.array(0)\n",
        "np.array(0) // np.array(0)\n",
        "np.array([np.nan]).astype(int).astype(float)"
      ],
      "metadata": {
        "colab": {
          "base_uri": "https://localhost:8080/"
        },
        "id": "Y2sjtdWrXoBS",
        "outputId": "b7545281-6060-484b-b46c-a0b04908d27c"
      },
      "execution_count": 29,
      "outputs": [
        {
          "output_type": "stream",
          "name": "stderr",
          "text": [
            "<ipython-input-29-4d15ae8654db>:2: RuntimeWarning: invalid value encountered in divide\n",
            "  np.array(0) / np.array(0)\n",
            "<ipython-input-29-4d15ae8654db>:3: RuntimeWarning: divide by zero encountered in floor_divide\n",
            "  np.array(0) // np.array(0)\n",
            "<ipython-input-29-4d15ae8654db>:4: RuntimeWarning: invalid value encountered in cast\n",
            "  np.array([np.nan]).astype(int).astype(float)\n"
          ]
        },
        {
          "output_type": "execute_result",
          "data": {
            "text/plain": [
              "array([-9.22337204e+18])"
            ]
          },
          "metadata": {},
          "execution_count": 29
        }
      ]
    },
    {
      "cell_type": "code",
      "source": [
        "# How to round away from zero a float array\n",
        "\n",
        "X = np.random.uniform(-10,+10,10)\n",
        "print(np.trunc(X + np.copysign(0.5,X)))"
      ],
      "metadata": {
        "colab": {
          "base_uri": "https://localhost:8080/"
        },
        "id": "Cm6BPw_WXom3",
        "outputId": "22b37044-4375-401c-9612-1d16ddadd0a0"
      },
      "execution_count": 17,
      "outputs": [
        {
          "output_type": "stream",
          "name": "stdout",
          "text": [
            "[  3.   7.  -6.  -1.   3.   9. -10.   5.  -6.  -0.]\n"
          ]
        }
      ]
    },
    {
      "cell_type": "code",
      "source": [
        "# How to find common values between two arrays\n",
        "ar1 = [0,1,2,3,4,5,8,7]\n",
        "ar2 = [1,3,15,7,10]\n",
        "print(np.intersect1d(ar1, ar2))"
      ],
      "metadata": {
        "colab": {
          "base_uri": "https://localhost:8080/"
        },
        "id": "vtynntsVX6lV",
        "outputId": "1039a8e3-b6f2-44fb-831e-e059a73a0a55"
      },
      "execution_count": 22,
      "outputs": [
        {
          "output_type": "stream",
          "name": "stdout",
          "text": [
            "[1 3 7]\n"
          ]
        }
      ]
    }
  ]
}
