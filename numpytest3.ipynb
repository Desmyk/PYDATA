{
  "nbformat": 4,
  "nbformat_minor": 0,
  "metadata": {
    "colab": {
      "provenance": [],
      "authorship_tag": "ABX9TyPAhdeP5ucFAnf/kmyluxkP",
      "include_colab_link": true
    },
    "kernelspec": {
      "name": "python3",
      "display_name": "Python 3"
    },
    "language_info": {
      "name": "python"
    }
  },
  "cells": [
    {
      "cell_type": "markdown",
      "metadata": {
        "id": "view-in-github",
        "colab_type": "text"
      },
      "source": [
        "<a href=\"https://colab.research.google.com/github/Desmyk/PYDATA/blob/main/numpytest3.ipynb\" target=\"_parent\"><img src=\"https://colab.research.google.com/assets/colab-badge.svg\" alt=\"Open In Colab\"/></a>"
      ]
    },
    {
      "cell_type": "code",
      "source": [
        "import numpy as np"
      ],
      "metadata": {
        "id": "HKnyvBXcVH6D"
      },
      "execution_count": 1,
      "outputs": []
    },
    {
      "cell_type": "code",
      "source": [
        "# How to ignore all numpy warnings (not recommended)\n",
        "\n",
        "# Suppress Warnings\n",
        "np.seterr(all=\"ignore\")"
      ],
      "metadata": {
        "colab": {
          "base_uri": "https://localhost:8080/"
        },
        "id": "3yD3tCqhU3oG",
        "outputId": "f7e362bd-3499-431f-bc9f-c362cc395eda"
      },
      "execution_count": 4,
      "outputs": [
        {
          "output_type": "execute_result",
          "data": {
            "text/plain": [
              "{'divide': 'warn', 'over': 'warn', 'under': 'ignore', 'invalid': 'warn'}"
            ]
          },
          "metadata": {},
          "execution_count": 4
        }
      ]
    },
    {
      "cell_type": "code",
      "execution_count": 2,
      "metadata": {
        "colab": {
          "base_uri": "https://localhost:8080/"
        },
        "id": "kb-M--xtUhIJ",
        "outputId": "23a4c596-904e-45d6-bfb4-04a4a4e721c4"
      },
      "outputs": [
        {
          "output_type": "stream",
          "name": "stderr",
          "text": [
            "<ipython-input-2-4cdd710269fc>:3: RuntimeWarning: invalid value encountered in sqrt\n",
            "  np.sqrt(-1) == np.emath.sqrt(-1)\n"
          ]
        },
        {
          "output_type": "execute_result",
          "data": {
            "text/plain": [
              "False"
            ]
          },
          "metadata": {},
          "execution_count": 2
        }
      ],
      "source": [
        "# Is the following expressions true?\n",
        "\n",
        "np.sqrt(-1) == np.emath.sqrt(-1)\n"
      ]
    },
    {
      "cell_type": "code",
      "source": [
        "# How to get the dates of yesterday, today and tomorrow?\n",
        "\n",
        "yesterday = np.datetime64('today', 'D')- np.timedelta64(1, 'D')\n",
        "print(\"Yestraday: \", yesterday)\n",
        "\n",
        "today = np.datetime64('today', 'D')\n",
        "print(\"Today: \", today)\n",
        "\n",
        "tomorrow = np.datetime64('today', 'D') + np.timedelta64(1, 'D')\n",
        "print(\"Tomorrow: \", tomorrow)\n"
      ],
      "metadata": {
        "colab": {
          "base_uri": "https://localhost:8080/"
        },
        "id": "acqac4bTU4EU",
        "outputId": "1d83bb18-23f9-4177-8ee6-b8e9fb4199d3"
      },
      "execution_count": 5,
      "outputs": [
        {
          "output_type": "stream",
          "name": "stdout",
          "text": [
            "Yestraday:  2024-03-26\n",
            "Today:  2024-03-27\n",
            "Tomorrow:  2024-03-28\n"
          ]
        }
      ]
    },
    {
      "cell_type": "code",
      "source": [
        "# How to get all the dates corresponding to the month of July 2016?\n",
        "\n",
        "print(\"July, 2016\")\n",
        "print(np.arange('2016-07', '2016-08', dtype='datetime64[D]'))"
      ],
      "metadata": {
        "colab": {
          "base_uri": "https://localhost:8080/"
        },
        "id": "bmKwECcHU4dO",
        "outputId": "af91a6db-890b-40f5-e8f2-1d6637f79acf"
      },
      "execution_count": 8,
      "outputs": [
        {
          "output_type": "stream",
          "name": "stdout",
          "text": [
            "July, 2016\n",
            "['2016-07-01' '2016-07-02' '2016-07-03' '2016-07-04' '2016-07-05'\n",
            " '2016-07-06' '2016-07-07' '2016-07-08' '2016-07-09' '2016-07-10'\n",
            " '2016-07-11' '2016-07-12' '2016-07-13' '2016-07-14' '2016-07-15'\n",
            " '2016-07-16' '2016-07-17' '2016-07-18' '2016-07-19' '2016-07-20'\n",
            " '2016-07-21' '2016-07-22' '2016-07-23' '2016-07-24' '2016-07-25'\n",
            " '2016-07-26' '2016-07-27' '2016-07-28' '2016-07-29' '2016-07-30'\n",
            " '2016-07-31']\n"
          ]
        }
      ]
    },
    {
      "cell_type": "code",
      "source": [
        "# How to compute ((A+B)*(-A/2)) in place (without copy)?\n",
        "\n",
        "A = np.ones(3)*1\n",
        "B = np.ones(3)*2\n",
        "np.add(A,B,out=B)\n",
        "np.divide(A,2,out=A)\n",
        "np.negative(A,out=A)\n",
        "np.multiply(A,B,out=A)\n"
      ],
      "metadata": {
        "colab": {
          "base_uri": "https://localhost:8080/"
        },
        "id": "izUJVZcWU4_i",
        "outputId": "b1cd256a-f6fe-4e1d-ccd3-81f227526ba9"
      },
      "execution_count": 9,
      "outputs": [
        {
          "output_type": "execute_result",
          "data": {
            "text/plain": [
              "array([-1.5, -1.5, -1.5])"
            ]
          },
          "metadata": {},
          "execution_count": 9
        }
      ]
    },
    {
      "cell_type": "code",
      "source": [
        "# Extract the integer part of a random array of positive numbers using 4 different methods\n",
        "\n",
        "X = np.random.uniform(0,10,10)\n",
        "\n",
        "print(X - X%1)\n",
        "print(X // 1)\n",
        "print(np.floor(X))\n",
        "print(X.astype(int))\n",
        "print(np.trunc(X))"
      ],
      "metadata": {
        "colab": {
          "base_uri": "https://localhost:8080/"
        },
        "id": "baSOmvGVU5dY",
        "outputId": "c8411502-7483-4d15-a93a-4c9f8975a901"
      },
      "execution_count": 10,
      "outputs": [
        {
          "output_type": "stream",
          "name": "stdout",
          "text": [
            "[1. 3. 5. 4. 8. 8. 1. 2. 3. 8.]\n",
            "[1. 3. 5. 4. 8. 8. 1. 2. 3. 8.]\n",
            "[1. 3. 5. 4. 8. 8. 1. 2. 3. 8.]\n",
            "[1 3 5 4 8 8 1 2 3 8]\n",
            "[1. 3. 5. 4. 8. 8. 1. 2. 3. 8.]\n"
          ]
        }
      ]
    },
    {
      "cell_type": "code",
      "source": [
        "# Create a 5x5 matrix with row values ranging from 0 to 4\n",
        "\n",
        "X = np.zeros((5,5))\n",
        "X += np.arange(5)\n",
        "print(X)"
      ],
      "metadata": {
        "colab": {
          "base_uri": "https://localhost:8080/"
        },
        "id": "BSZw99H7U58J",
        "outputId": "d9cce4fe-9962-492c-d968-9a25676e9e95"
      },
      "execution_count": 11,
      "outputs": [
        {
          "output_type": "stream",
          "name": "stdout",
          "text": [
            "[[0. 1. 2. 3. 4.]\n",
            " [0. 1. 2. 3. 4.]\n",
            " [0. 1. 2. 3. 4.]\n",
            " [0. 1. 2. 3. 4.]\n",
            " [0. 1. 2. 3. 4.]]\n"
          ]
        }
      ]
    },
    {
      "cell_type": "code",
      "source": [
        "# Consider a generator function that generates 10 integers and use it to build an array\n",
        "\n",
        "def generate():\n",
        "    for x in range(10):\n",
        "        yield x\n",
        "X = np.fromiter(generate(),dtype=float,count=-1)\n",
        "print(X)"
      ],
      "metadata": {
        "colab": {
          "base_uri": "https://localhost:8080/"
        },
        "id": "NTNvqeV5U6YJ",
        "outputId": "497b5a36-2c43-4828-a9df-efc738ca2c1c"
      },
      "execution_count": 12,
      "outputs": [
        {
          "output_type": "stream",
          "name": "stdout",
          "text": [
            "[0. 1. 2. 3. 4. 5. 6. 7. 8. 9.]\n"
          ]
        }
      ]
    },
    {
      "cell_type": "code",
      "source": [
        "# Create a vector of size 10 with values ranging from 0 to 1, both excluded\n",
        "\n",
        "X = np.linspace(0,1,11,endpoint=False)[1:]\n",
        "print(X)"
      ],
      "metadata": {
        "colab": {
          "base_uri": "https://localhost:8080/"
        },
        "id": "4_dNE9I3U62k",
        "outputId": "c029196e-7d4b-4dff-f7c4-4eeb3f9aa5b2"
      },
      "execution_count": 13,
      "outputs": [
        {
          "output_type": "stream",
          "name": "stdout",
          "text": [
            "[0.09090909 0.18181818 0.27272727 0.36363636 0.45454545 0.54545455\n",
            " 0.63636364 0.72727273 0.81818182 0.90909091]\n"
          ]
        }
      ]
    },
    {
      "cell_type": "code",
      "source": [
        "# Create a random vector of size 10 and sort it\n",
        "\n",
        "X = np.random.random(10)\n",
        "X.sort()\n",
        "print(X)"
      ],
      "metadata": {
        "colab": {
          "base_uri": "https://localhost:8080/"
        },
        "id": "XJLswN0-ZF-C",
        "outputId": "900c8cfc-f730-4e7f-f269-768d626cd6bb"
      },
      "execution_count": 14,
      "outputs": [
        {
          "output_type": "stream",
          "name": "stdout",
          "text": [
            "[0.05056861 0.06520556 0.08890574 0.1172409  0.41879442 0.44910604\n",
            " 0.51403051 0.55806522 0.65956251 0.68628359]\n"
          ]
        }
      ]
    },
    {
      "cell_type": "code",
      "source": [
        "# How to sum a small array faster than np.sum?\n",
        "\n",
        "X = np.arange(10)\n",
        "np.add.reduce(X)"
      ],
      "metadata": {
        "colab": {
          "base_uri": "https://localhost:8080/"
        },
        "id": "FHQL_wllZ3Wd",
        "outputId": "6c11f7ff-bc73-481d-b79e-b63cc92edf29"
      },
      "execution_count": 15,
      "outputs": [
        {
          "output_type": "execute_result",
          "data": {
            "text/plain": [
              "45"
            ]
          },
          "metadata": {},
          "execution_count": 15
        }
      ]
    },
    {
      "cell_type": "code",
      "source": [
        "# Consider two random array A and B, check if they are equal\n",
        "\n",
        "A = np.random.randint(0,2,5)\n",
        "B = np.random.randint(0,2,5)\n",
        "\n",
        "equal = np.array_equal(A,B)\n",
        "print(equal)"
      ],
      "metadata": {
        "colab": {
          "base_uri": "https://localhost:8080/"
        },
        "id": "8_pUsuGCaCuT",
        "outputId": "d4fd3e32-b449-4a6d-d440-beb98629a783"
      },
      "execution_count": 26,
      "outputs": [
        {
          "output_type": "stream",
          "name": "stdout",
          "text": [
            "False\n"
          ]
        }
      ]
    },
    {
      "cell_type": "code",
      "source": [
        "# Make an array immutable (read-only)\n",
        "\n",
        "X = np.zeros(10)\n",
        "X.flags.writeable = False\n",
        "X[0] = 1"
      ],
      "metadata": {
        "colab": {
          "base_uri": "https://localhost:8080/",
          "height": 176
        },
        "id": "hQ6cIuLYaK3e",
        "outputId": "100760a3-0fa3-4225-c539-67b60b2fe8fe"
      },
      "execution_count": 27,
      "outputs": [
        {
          "output_type": "error",
          "ename": "ValueError",
          "evalue": "assignment destination is read-only",
          "traceback": [
            "\u001b[0;31m---------------------------------------------------------------------------\u001b[0m",
            "\u001b[0;31mValueError\u001b[0m                                Traceback (most recent call last)",
            "\u001b[0;32m<ipython-input-27-69d6eedc2c28>\u001b[0m in \u001b[0;36m<cell line: 5>\u001b[0;34m()\u001b[0m\n\u001b[1;32m      3\u001b[0m \u001b[0mX\u001b[0m \u001b[0;34m=\u001b[0m \u001b[0mnp\u001b[0m\u001b[0;34m.\u001b[0m\u001b[0mzeros\u001b[0m\u001b[0;34m(\u001b[0m\u001b[0;36m10\u001b[0m\u001b[0;34m)\u001b[0m\u001b[0;34m\u001b[0m\u001b[0;34m\u001b[0m\u001b[0m\n\u001b[1;32m      4\u001b[0m \u001b[0mX\u001b[0m\u001b[0;34m.\u001b[0m\u001b[0mflags\u001b[0m\u001b[0;34m.\u001b[0m\u001b[0mwriteable\u001b[0m \u001b[0;34m=\u001b[0m \u001b[0;32mFalse\u001b[0m\u001b[0;34m\u001b[0m\u001b[0;34m\u001b[0m\u001b[0m\n\u001b[0;32m----> 5\u001b[0;31m \u001b[0mX\u001b[0m\u001b[0;34m[\u001b[0m\u001b[0;36m0\u001b[0m\u001b[0;34m]\u001b[0m \u001b[0;34m=\u001b[0m \u001b[0;36m1\u001b[0m\u001b[0;34m\u001b[0m\u001b[0;34m\u001b[0m\u001b[0m\n\u001b[0m",
            "\u001b[0;31mValueError\u001b[0m: assignment destination is read-only"
          ]
        }
      ]
    },
    {
      "cell_type": "code",
      "source": [
        "# Consider a random 10x2 matrix representing cartesian coordinates, convert them to polar coordinates\n",
        "\n",
        "Z = np.random.random((10,2))\n",
        "X,Y = Z[:,0], Z[:,1]\n",
        "R = np.sqrt(X**2+Y**2)\n",
        "T = np.arctan2(Y,X)\n",
        "print(R)\n",
        "print(T)"
      ],
      "metadata": {
        "colab": {
          "base_uri": "https://localhost:8080/"
        },
        "id": "DvzkMa7uaPHN",
        "outputId": "1a8ad892-de52-479b-83ed-247eac564c4c"
      },
      "execution_count": 28,
      "outputs": [
        {
          "output_type": "stream",
          "name": "stdout",
          "text": [
            "[0.34711915 0.71624513 0.97915052 0.6263554  0.60110275 0.75010846\n",
            " 0.92315054 0.58976721 0.2560027  1.05283026]\n",
            "[0.9294006  1.41923412 0.77640203 1.55297157 0.18468639 0.25760593\n",
            " 0.84177957 1.22164256 0.92298004 0.99604654]\n"
          ]
        }
      ]
    },
    {
      "cell_type": "code",
      "source": [
        "# Create random vector of size 10 and replace the maximum value by 0\n",
        "\n",
        "X = np.random.random(10)\n",
        "X[X.argmax()] = 0\n",
        "print(X)"
      ],
      "metadata": {
        "colab": {
          "base_uri": "https://localhost:8080/"
        },
        "id": "dpkaqe6FeCF2",
        "outputId": "0352351f-171f-45f6-e7cd-c625722dd8d5"
      },
      "execution_count": 29,
      "outputs": [
        {
          "output_type": "stream",
          "name": "stdout",
          "text": [
            "[0.62896148 0.46255649 0.53733136 0.26420483 0.3047531  0.18790626\n",
            " 0.5944851  0.12880981 0.         0.52455674]\n"
          ]
        }
      ]
    }
  ]
}