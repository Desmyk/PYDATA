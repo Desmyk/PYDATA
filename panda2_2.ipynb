{
  "nbformat": 4,
  "nbformat_minor": 0,
  "metadata": {
    "colab": {
      "provenance": [],
      "authorship_tag": "ABX9TyMp2teDcoTTPdWOfWAgYJBN",
      "include_colab_link": true
    },
    "kernelspec": {
      "name": "python3",
      "display_name": "Python 3"
    },
    "language_info": {
      "name": "python"
    }
  },
  "cells": [
    {
      "cell_type": "markdown",
      "metadata": {
        "id": "view-in-github",
        "colab_type": "text"
      },
      "source": [
        "<a href=\"https://colab.research.google.com/github/Desmyk/PYDATA/blob/main/panda2_2.ipynb\" target=\"_parent\"><img src=\"https://colab.research.google.com/assets/colab-badge.svg\" alt=\"Open In Colab\"/></a>"
      ]
    },
    {
      "cell_type": "code",
      "execution_count": 1,
      "metadata": {
        "id": "mLS1F-4rmpIx"
      },
      "outputs": [],
      "source": [
        "import pandas as pd"
      ]
    },
    {
      "cell_type": "code",
      "source": [
        "# import dataset\n",
        "# Assign it to a variable called euro12\n",
        "\n",
        "euro12 = pd.read_csv('https://raw.githubusercontent.com/guipsamora/pandas_exercises/master/02_Filtering_%26_Sorting/Euro12/Euro_2012_stats_TEAM.csv')"
      ],
      "metadata": {
        "id": "s1QmU7aFnCAX"
      },
      "execution_count": 3,
      "outputs": []
    },
    {
      "cell_type": "code",
      "source": [
        "# Select only the Goal column\n",
        "\n",
        "euro12['Goals']"
      ],
      "metadata": {
        "colab": {
          "base_uri": "https://localhost:8080/"
        },
        "id": "1RECyIC7nBlD",
        "outputId": "89a62213-74fe-4153-890a-7f6498257d5d"
      },
      "execution_count": 6,
      "outputs": [
        {
          "output_type": "execute_result",
          "data": {
            "text/plain": [
              "0      4\n",
              "1      4\n",
              "2      4\n",
              "3      5\n",
              "4      3\n",
              "5     10\n",
              "6      5\n",
              "7      6\n",
              "8      2\n",
              "9      2\n",
              "10     6\n",
              "11     1\n",
              "12     5\n",
              "13    12\n",
              "14     5\n",
              "15     2\n",
              "Name: Goals, dtype: int64"
            ]
          },
          "metadata": {},
          "execution_count": 6
        }
      ]
    },
    {
      "cell_type": "code",
      "source": [
        "# How many team participated in the Euro2012\n",
        "\n",
        "teams = len(euro12['Team'])\n",
        "print(f'Number of teams that participated are: {teams} teams')"
      ],
      "metadata": {
        "colab": {
          "base_uri": "https://localhost:8080/"
        },
        "id": "4b7_5Gb6nBeq",
        "outputId": "f1e3bd8a-500f-4519-8dc7-ad4645c5d517"
      },
      "execution_count": 7,
      "outputs": [
        {
          "output_type": "stream",
          "name": "stdout",
          "text": [
            "Number of teams that participated are: 16 teams\n"
          ]
        }
      ]
    },
    {
      "cell_type": "code",
      "source": [
        "# What is the number of columns in the dataset\n",
        "\n",
        "columns = len(euro12.columns)\n",
        "print(f\"Number of columns in the dataset: {columns}\")"
      ],
      "metadata": {
        "colab": {
          "base_uri": "https://localhost:8080/"
        },
        "id": "E55_K0cMnBZI",
        "outputId": "35fa5dbf-d0a0-4103-934a-fbbb08031b25"
      },
      "execution_count": 9,
      "outputs": [
        {
          "output_type": "stream",
          "name": "stdout",
          "text": [
            "Number of columns in the dataset: 35\n"
          ]
        }
      ]
    },
    {
      "cell_type": "code",
      "source": [
        "# View only the columns Team, Yellow Cards and Red Cards and assign them to a dataframe called discipline\n",
        "\n",
        "discipline = euro12[[\"Team\", \"Yellow Cards\", \"Red Cards\"]]\n",
        "print(discipline)"
      ],
      "metadata": {
        "colab": {
          "base_uri": "https://localhost:8080/"
        },
        "id": "54nDi1L-nBSU",
        "outputId": "7ee8fcab-0beb-4562-80b8-925f3e5f5f76"
      },
      "execution_count": 12,
      "outputs": [
        {
          "output_type": "stream",
          "name": "stdout",
          "text": [
            "                   Team  Yellow Cards  Red Cards\n",
            "0               Croatia             9          0\n",
            "1        Czech Republic             7          0\n",
            "2               Denmark             4          0\n",
            "3               England             5          0\n",
            "4                France             6          0\n",
            "5               Germany             4          0\n",
            "6                Greece             9          1\n",
            "7                 Italy            16          0\n",
            "8           Netherlands             5          0\n",
            "9                Poland             7          1\n",
            "10             Portugal            12          0\n",
            "11  Republic of Ireland             6          1\n",
            "12               Russia             6          0\n",
            "13                Spain            11          0\n",
            "14               Sweden             7          0\n",
            "15              Ukraine             5          0\n"
          ]
        }
      ]
    },
    {
      "cell_type": "code",
      "source": [
        "discipline = euro12.sort_values(by=[\"Red Cards\", \"Yellow Cards\"])\n",
        "print(discipline)"
      ],
      "metadata": {
        "colab": {
          "base_uri": "https://localhost:8080/"
        },
        "id": "y9r5ttNunBLz",
        "outputId": "e5862a40-aab8-4126-e773-87ede914be40"
      },
      "execution_count": 34,
      "outputs": [
        {
          "output_type": "stream",
          "name": "stdout",
          "text": [
            "                   Team  Goals  Shots on target  Shots off target  \\\n",
            "2               Denmark      4               10                10   \n",
            "5               Germany     10               32                32   \n",
            "3               England      5               11                18   \n",
            "8           Netherlands      2               12                36   \n",
            "15              Ukraine      2                7                26   \n",
            "4                France      3               22                24   \n",
            "12               Russia      5                9                31   \n",
            "1        Czech Republic      4               13                18   \n",
            "14               Sweden      5               17                19   \n",
            "0               Croatia      4               13                12   \n",
            "13                Spain     12               42                33   \n",
            "10             Portugal      6               22                42   \n",
            "7                 Italy      6               34                45   \n",
            "11  Republic of Ireland      1                7                12   \n",
            "9                Poland      2               15                23   \n",
            "6                Greece      5                8                18   \n",
            "\n",
            "   Shooting Accuracy % Goals-to-shots  Total shots (inc. Blocked)  \\\n",
            "2              50.0%            20.0%                          27   \n",
            "5              47.8%            15.6%                          80   \n",
            "3              50.0%            17.2%                          40   \n",
            "8              25.0%             4.1%                          60   \n",
            "15             21.2%             6.0%                          38   \n",
            "4              37.9%             6.5%                          65   \n",
            "12             22.5%            12.5%                          59   \n",
            "1              41.9%            12.9%                          39   \n",
            "14             47.2%            13.8%                          39   \n",
            "0              51.9%            16.0%                          32   \n",
            "13             55.9%            16.0%                         100   \n",
            "10             34.3%             9.3%                          82   \n",
            "7              43.0%             7.5%                         110   \n",
            "11             36.8%             5.2%                          28   \n",
            "9              39.4%             5.2%                          48   \n",
            "6              30.7%            19.2%                          32   \n",
            "\n",
            "    Hit Woodwork  Penalty goals  Penalties not scored  ...  Saves made  \\\n",
            "2              1              0                     0  ...          10   \n",
            "5              2              1                     0  ...          10   \n",
            "3              0              0                     0  ...          22   \n",
            "8              2              0                     0  ...          12   \n",
            "15             0              0                     0  ...          13   \n",
            "4              1              0                     0  ...           6   \n",
            "12             2              0                     0  ...          10   \n",
            "1              0              0                     0  ...           9   \n",
            "14             3              0                     0  ...           8   \n",
            "0              0              0                     0  ...          13   \n",
            "13             0              1                     0  ...          15   \n",
            "10             6              0                     0  ...          10   \n",
            "7              2              0                     0  ...          20   \n",
            "11             0              0                     0  ...          17   \n",
            "9              0              0                     0  ...           6   \n",
            "6              1              1                     1  ...          13   \n",
            "\n",
            "    Saves-to-shots ratio  Fouls Won Fouls Conceded  Offsides  Yellow Cards  \\\n",
            "2                  66.7%         25             38         8             4   \n",
            "5                  62.6%         63             49        12             4   \n",
            "3                  88.1%         43             45         6             5   \n",
            "8                  70.6%         35             30         3             5   \n",
            "15                 76.5%         48             31         4             5   \n",
            "4                  54.6%         36             51         5             6   \n",
            "12                 77.0%         34             43         4             6   \n",
            "1                  60.1%         53             73         8             7   \n",
            "14                 61.6%         35             51         7             7   \n",
            "0                  81.3%         41             62         2             9   \n",
            "13                 93.8%        102             83        19            11   \n",
            "10                 71.5%         73             90        10            12   \n",
            "7                  74.1%        101             89        16            16   \n",
            "11                 65.4%         43             51        11             6   \n",
            "9                  66.7%         48             56         3             7   \n",
            "6                  65.1%         67             48        12             9   \n",
            "\n",
            "    Red Cards  Subs on  Subs off  Players Used  \n",
            "2           0        7         7            15  \n",
            "5           0       15        15            17  \n",
            "3           0       11        11            16  \n",
            "8           0        7         7            15  \n",
            "15          0        9         9            18  \n",
            "4           0       11        11            19  \n",
            "12          0        7         7            16  \n",
            "1           0       11        11            19  \n",
            "14          0        9         9            18  \n",
            "0           0        9         9            16  \n",
            "13          0       17        17            18  \n",
            "10          0       14        14            16  \n",
            "7           0       18        18            19  \n",
            "11          1       10        10            17  \n",
            "9           1        7         7            17  \n",
            "6           1       12        12            20  \n",
            "\n",
            "[16 rows x 35 columns]\n"
          ]
        }
      ]
    },
    {
      "cell_type": "code",
      "source": [
        "# Calculate the mean Yellow Cards given per Team\n",
        "\n",
        "yellowcards = euro12[\"Yellow Cards\"].mean()\n",
        "\n",
        "print(f\"Mean yellow cards per team: {yellowcards}\")"
      ],
      "metadata": {
        "colab": {
          "base_uri": "https://localhost:8080/"
        },
        "id": "R9GPj3aZnBEj",
        "outputId": "b88f1cf0-f1b0-450b-9a59-c31a377a7d5b"
      },
      "execution_count": 15,
      "outputs": [
        {
          "output_type": "stream",
          "name": "stdout",
          "text": [
            "Mean yellow cards per team: 7.4375\n"
          ]
        }
      ]
    },
    {
      "cell_type": "code",
      "source": [
        "# Filter teams that scored more than 6 goals\n",
        "\n",
        "teams_with_more_than_6_goals = euro12[euro12[\"Goals\"] > 6]\n",
        "\n",
        "print(teams_with_more_than_6_goals)"
      ],
      "metadata": {
        "colab": {
          "base_uri": "https://localhost:8080/"
        },
        "id": "wq5GDS__nA-H",
        "outputId": "98238828-8b74-4ef5-dc6b-ae857fdc725c"
      },
      "execution_count": 26,
      "outputs": [
        {
          "output_type": "stream",
          "name": "stdout",
          "text": [
            "       Team  Goals  Shots on target  Shots off target Shooting Accuracy  \\\n",
            "5   Germany     10               32                32             47.8%   \n",
            "13    Spain     12               42                33             55.9%   \n",
            "\n",
            "   % Goals-to-shots  Total shots (inc. Blocked)  Hit Woodwork  Penalty goals  \\\n",
            "5             15.6%                          80             2              1   \n",
            "13            16.0%                         100             0              1   \n",
            "\n",
            "    Penalties not scored  ...  Saves made  Saves-to-shots ratio  Fouls Won  \\\n",
            "5                      0  ...          10                 62.6%         63   \n",
            "13                     0  ...          15                 93.8%        102   \n",
            "\n",
            "   Fouls Conceded  Offsides  Yellow Cards  Red Cards  Subs on  Subs off  \\\n",
            "5              49        12             4          0       15        15   \n",
            "13             83        19            11          0       17        17   \n",
            "\n",
            "    Players Used  \n",
            "5             17  \n",
            "13            18  \n",
            "\n",
            "[2 rows x 35 columns]\n"
          ]
        }
      ]
    },
    {
      "cell_type": "code",
      "source": [
        "# Select the teams that start with G\n",
        "\n",
        "teams_starting_with_g = euro12[euro12[\"Team\"].str.startswith(\"G\")]\n",
        "\n",
        "print(teams_starting_with_g)"
      ],
      "metadata": {
        "colab": {
          "base_uri": "https://localhost:8080/"
        },
        "id": "u3ibUVbinA1u",
        "outputId": "c49d2a84-777e-4735-b6e1-3df84d312b49"
      },
      "execution_count": 25,
      "outputs": [
        {
          "output_type": "stream",
          "name": "stdout",
          "text": [
            "      Team  Goals  Shots on target  Shots off target Shooting Accuracy  \\\n",
            "5  Germany     10               32                32             47.8%   \n",
            "6   Greece      5                8                18             30.7%   \n",
            "\n",
            "  % Goals-to-shots  Total shots (inc. Blocked)  Hit Woodwork  Penalty goals  \\\n",
            "5            15.6%                          80             2              1   \n",
            "6            19.2%                          32             1              1   \n",
            "\n",
            "   Penalties not scored  ...  Saves made  Saves-to-shots ratio  Fouls Won  \\\n",
            "5                     0  ...          10                 62.6%         63   \n",
            "6                     1  ...          13                 65.1%         67   \n",
            "\n",
            "  Fouls Conceded  Offsides  Yellow Cards  Red Cards  Subs on  Subs off  \\\n",
            "5             49        12             4          0       15        15   \n",
            "6             48        12             9          1       12        12   \n",
            "\n",
            "   Players Used  \n",
            "5            17  \n",
            "6            20  \n",
            "\n",
            "[2 rows x 35 columns]\n"
          ]
        }
      ]
    },
    {
      "cell_type": "code",
      "source": [
        "# Select the first 7 columns\n",
        "\n",
        "first_7_columns = euro12.iloc[:, :7]\n",
        "print(first_7_columns)"
      ],
      "metadata": {
        "colab": {
          "base_uri": "https://localhost:8080/"
        },
        "id": "_iG-zBKbnAti",
        "outputId": "ee7d2d05-6aa0-4904-e8d1-38fa0aa64377"
      },
      "execution_count": 24,
      "outputs": [
        {
          "output_type": "stream",
          "name": "stdout",
          "text": [
            "                   Team  Goals  Shots on target  Shots off target  \\\n",
            "0               Croatia      4               13                12   \n",
            "1        Czech Republic      4               13                18   \n",
            "2               Denmark      4               10                10   \n",
            "3               England      5               11                18   \n",
            "4                France      3               22                24   \n",
            "5               Germany     10               32                32   \n",
            "6                Greece      5                8                18   \n",
            "7                 Italy      6               34                45   \n",
            "8           Netherlands      2               12                36   \n",
            "9                Poland      2               15                23   \n",
            "10             Portugal      6               22                42   \n",
            "11  Republic of Ireland      1                7                12   \n",
            "12               Russia      5                9                31   \n",
            "13                Spain     12               42                33   \n",
            "14               Sweden      5               17                19   \n",
            "15              Ukraine      2                7                26   \n",
            "\n",
            "   Shooting Accuracy % Goals-to-shots  Total shots (inc. Blocked)  \n",
            "0              51.9%            16.0%                          32  \n",
            "1              41.9%            12.9%                          39  \n",
            "2              50.0%            20.0%                          27  \n",
            "3              50.0%            17.2%                          40  \n",
            "4              37.9%             6.5%                          65  \n",
            "5              47.8%            15.6%                          80  \n",
            "6              30.7%            19.2%                          32  \n",
            "7              43.0%             7.5%                         110  \n",
            "8              25.0%             4.1%                          60  \n",
            "9              39.4%             5.2%                          48  \n",
            "10             34.3%             9.3%                          82  \n",
            "11             36.8%             5.2%                          28  \n",
            "12             22.5%            12.5%                          59  \n",
            "13             55.9%            16.0%                         100  \n",
            "14             47.2%            13.8%                          39  \n",
            "15             21.2%             6.0%                          38  \n"
          ]
        }
      ]
    },
    {
      "cell_type": "code",
      "source": [
        "# Select all columns except the last 3\n",
        "\n",
        "selected_columns = euro12.iloc[:, :-3]\n",
        "print(selected_columns)"
      ],
      "metadata": {
        "colab": {
          "base_uri": "https://localhost:8080/"
        },
        "id": "GtPYr2tVnAkG",
        "outputId": "b3cd6e98-2803-4869-8639-2347af9bea5d"
      },
      "execution_count": 22,
      "outputs": [
        {
          "output_type": "stream",
          "name": "stdout",
          "text": [
            "                   Team  Goals  Shots on target  Shots off target  \\\n",
            "0               Croatia      4               13                12   \n",
            "1        Czech Republic      4               13                18   \n",
            "2               Denmark      4               10                10   \n",
            "3               England      5               11                18   \n",
            "4                France      3               22                24   \n",
            "5               Germany     10               32                32   \n",
            "6                Greece      5                8                18   \n",
            "7                 Italy      6               34                45   \n",
            "8           Netherlands      2               12                36   \n",
            "9                Poland      2               15                23   \n",
            "10             Portugal      6               22                42   \n",
            "11  Republic of Ireland      1                7                12   \n",
            "12               Russia      5                9                31   \n",
            "13                Spain     12               42                33   \n",
            "14               Sweden      5               17                19   \n",
            "15              Ukraine      2                7                26   \n",
            "\n",
            "   Shooting Accuracy % Goals-to-shots  Total shots (inc. Blocked)  \\\n",
            "0              51.9%            16.0%                          32   \n",
            "1              41.9%            12.9%                          39   \n",
            "2              50.0%            20.0%                          27   \n",
            "3              50.0%            17.2%                          40   \n",
            "4              37.9%             6.5%                          65   \n",
            "5              47.8%            15.6%                          80   \n",
            "6              30.7%            19.2%                          32   \n",
            "7              43.0%             7.5%                         110   \n",
            "8              25.0%             4.1%                          60   \n",
            "9              39.4%             5.2%                          48   \n",
            "10             34.3%             9.3%                          82   \n",
            "11             36.8%             5.2%                          28   \n",
            "12             22.5%            12.5%                          59   \n",
            "13             55.9%            16.0%                         100   \n",
            "14             47.2%            13.8%                          39   \n",
            "15             21.2%             6.0%                          38   \n",
            "\n",
            "    Hit Woodwork  Penalty goals  Penalties not scored  ...  Clean Sheets  \\\n",
            "0              0              0                     0  ...             0   \n",
            "1              0              0                     0  ...             1   \n",
            "2              1              0                     0  ...             1   \n",
            "3              0              0                     0  ...             2   \n",
            "4              1              0                     0  ...             1   \n",
            "5              2              1                     0  ...             1   \n",
            "6              1              1                     1  ...             1   \n",
            "7              2              0                     0  ...             2   \n",
            "8              2              0                     0  ...             0   \n",
            "9              0              0                     0  ...             0   \n",
            "10             6              0                     0  ...             2   \n",
            "11             0              0                     0  ...             0   \n",
            "12             2              0                     0  ...             0   \n",
            "13             0              1                     0  ...             5   \n",
            "14             3              0                     0  ...             1   \n",
            "15             0              0                     0  ...             0   \n",
            "\n",
            "    Blocks  Goals conceded Saves made  Saves-to-shots ratio  Fouls Won  \\\n",
            "0       10               3         13                 81.3%         41   \n",
            "1       10               6          9                 60.1%         53   \n",
            "2       10               5         10                 66.7%         25   \n",
            "3       29               3         22                 88.1%         43   \n",
            "4        7               5          6                 54.6%         36   \n",
            "5       11               6         10                 62.6%         63   \n",
            "6       23               7         13                 65.1%         67   \n",
            "7       18               7         20                 74.1%        101   \n",
            "8        9               5         12                 70.6%         35   \n",
            "9        8               3          6                 66.7%         48   \n",
            "10      11               4         10                 71.5%         73   \n",
            "11      23               9         17                 65.4%         43   \n",
            "12       8               3         10                 77.0%         34   \n",
            "13       8               1         15                 93.8%        102   \n",
            "14      12               5          8                 61.6%         35   \n",
            "15       4               4         13                 76.5%         48   \n",
            "\n",
            "    Fouls Conceded  Offsides  Yellow Cards  Red Cards  \n",
            "0               62         2             9          0  \n",
            "1               73         8             7          0  \n",
            "2               38         8             4          0  \n",
            "3               45         6             5          0  \n",
            "4               51         5             6          0  \n",
            "5               49        12             4          0  \n",
            "6               48        12             9          1  \n",
            "7               89        16            16          0  \n",
            "8               30         3             5          0  \n",
            "9               56         3             7          1  \n",
            "10              90        10            12          0  \n",
            "11              51        11             6          1  \n",
            "12              43         4             6          0  \n",
            "13              83        19            11          0  \n",
            "14              51         7             7          0  \n",
            "15              31         4             5          0  \n",
            "\n",
            "[16 rows x 32 columns]\n"
          ]
        }
      ]
    },
    {
      "cell_type": "code",
      "source": [
        "# Present only the Shooting Accuracy from England, Italy and Russia\n",
        "\n",
        "shooting_accuracy = euro12[euro12[\"Team\"].isin([\"England\", \"Italy\", \"Russia\"])][[\"Team\", \"Shooting Accuracy\"]]\n",
        "print(shooting_accuracy)"
      ],
      "metadata": {
        "colab": {
          "base_uri": "https://localhost:8080/"
        },
        "id": "lT-hxFF1nAZI",
        "outputId": "d0280657-1a0d-4908-8569-9b4aa97ce75a"
      },
      "execution_count": 17,
      "outputs": [
        {
          "output_type": "stream",
          "name": "stdout",
          "text": [
            "       Team Shooting Accuracy\n",
            "3   England             50.0%\n",
            "7     Italy             43.0%\n",
            "12   Russia             22.5%\n"
          ]
        }
      ]
    }
  ]
}