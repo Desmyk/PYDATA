{
  "nbformat": 4,
  "nbformat_minor": 0,
  "metadata": {
    "colab": {
      "provenance": [],
      "authorship_tag": "ABX9TyM4Gokj8q18Aca2DCZxO5Bj",
      "include_colab_link": true
    },
    "kernelspec": {
      "name": "python3",
      "display_name": "Python 3"
    },
    "language_info": {
      "name": "python"
    }
  },
  "cells": [
    {
      "cell_type": "markdown",
      "metadata": {
        "id": "view-in-github",
        "colab_type": "text"
      },
      "source": [
        "<a href=\"https://colab.research.google.com/github/Desmyk/PYDATA/blob/main/weeklynumpy.ipynb\" target=\"_parent\"><img src=\"https://colab.research.google.com/assets/colab-badge.svg\" alt=\"Open In Colab\"/></a>"
      ]
    },
    {
      "cell_type": "code",
      "execution_count": 1,
      "metadata": {
        "id": "FazwFkdMifib"
      },
      "outputs": [],
      "source": [
        "import numpy as np"
      ]
    },
    {
      "cell_type": "code",
      "source": [
        "# Find the nearest value from a given value in an array\n",
        "\n",
        "Z = np.random.uniform(0,1,10)\n",
        "z = 0.5\n",
        "m = Z.flat[np.abs(Z - z).argmin()]\n",
        "print(m)\n"
      ],
      "metadata": {
        "colab": {
          "base_uri": "https://localhost:8080/"
        },
        "id": "nMo0JGGiig4J",
        "outputId": "85d520ec-0bdc-478f-d7d6-cbb18ba64163"
      },
      "execution_count": 2,
      "outputs": [
        {
          "output_type": "stream",
          "name": "stdout",
          "text": [
            "0.5688028196475271\n"
          ]
        }
      ]
    },
    {
      "cell_type": "code",
      "source": [
        "# Considering two arrays with shape (1,3) and (3,1), how to compute their sum using an iterator\n",
        "\n",
        "A = np.arange(3).reshape(3,1)\n",
        "B = np.arange(3).reshape(1,3)\n",
        "it = np.nditer([A,B,None])\n",
        "for x,y,z in it: z[...] = x + y\n",
        "print(it.operands[2])\n",
        "\n"
      ],
      "metadata": {
        "colab": {
          "base_uri": "https://localhost:8080/"
        },
        "id": "wgAz3Ae1ihXL",
        "outputId": "ecfc3d90-3b25-4cf3-9140-7d11f2c8a959"
      },
      "execution_count": 3,
      "outputs": [
        {
          "output_type": "stream",
          "name": "stdout",
          "text": [
            "[[0 1 2]\n",
            " [1 2 3]\n",
            " [2 3 4]]\n"
          ]
        }
      ]
    },
    {
      "cell_type": "code",
      "source": [
        "# Create an array class that has a name attribute\n",
        "\n",
        "class NamedArray(np.ndarray):\n",
        "    def __new__(cls, array, name=\"no name\"):\n",
        "        obj = np.asarray(array).view(cls)\n",
        "        obj.name = name\n",
        "        return obj\n",
        "    def __array_finalize__(self, obj):\n",
        "        if obj is None: return\n",
        "        self.name = getattr(obj, 'name', \"no name\")\n",
        "\n",
        "Z = NamedArray(np.arange(10), \"range_10\")\n",
        "print (Z.name)\n"
      ],
      "metadata": {
        "colab": {
          "base_uri": "https://localhost:8080/"
        },
        "id": "VkR2_HU9ihvo",
        "outputId": "a300a3f0-fdbb-4694-def6-08e8575dfaab"
      },
      "execution_count": 4,
      "outputs": [
        {
          "output_type": "stream",
          "name": "stdout",
          "text": [
            "range_10\n"
          ]
        }
      ]
    },
    {
      "cell_type": "code",
      "source": [
        "# Consider a given vector, how to add 1 to each element indexed by a second vector (be careful with repeated indices)\n",
        "\n",
        "Z = np.ones(10)\n",
        "I = np.random.randint(0,len(Z),20)\n",
        "Z += np.bincount(I, minlength=len(Z))\n",
        "np.add.at(Z, I, 1)\n",
        "print(Z)\n"
      ],
      "metadata": {
        "colab": {
          "base_uri": "https://localhost:8080/"
        },
        "id": "ssl1Ye8oiiDQ",
        "outputId": "70fff07a-8f9a-46dd-e89e-3b7c92f0a6f5"
      },
      "execution_count": 6,
      "outputs": [
        {
          "output_type": "stream",
          "name": "stdout",
          "text": [
            "[7. 9. 3. 1. 5. 9. 7. 5. 1. 3.]\n"
          ]
        }
      ]
    },
    {
      "cell_type": "code",
      "source": [
        "# How to accumulate elements of a vector (X) to an array (F) based on an index list (I)\n",
        "\n",
        "X = [1,2,3,4,5,6]\n",
        "I = [1,3,9,3,4,1]\n",
        "F = np.bincount(I,X)\n",
        "print(F)\n"
      ],
      "metadata": {
        "colab": {
          "base_uri": "https://localhost:8080/"
        },
        "id": "tsq9e-vXiiXK",
        "outputId": "b3ea445b-38a1-4553-befa-8fb4cdff8122"
      },
      "execution_count": 7,
      "outputs": [
        {
          "output_type": "stream",
          "name": "stdout",
          "text": [
            "[0. 7. 0. 6. 5. 0. 0. 0. 0. 3.]\n"
          ]
        }
      ]
    },
    {
      "cell_type": "code",
      "source": [
        "# Considering a (w,h,3) image of (dtype=ubyte), compute the number of unique colors\n",
        "\n",
        "w, h = 256, 256\n",
        "I = np.random.randint(0, 4, (h, w, 3)).astype(np.ubyte)\n",
        "colors = np.unique(I.reshape(-1, 3), axis=0)\n",
        "n = len(colors)\n",
        "print(n)\n"
      ],
      "metadata": {
        "colab": {
          "base_uri": "https://localhost:8080/"
        },
        "id": "wP5y2w-kiiy4",
        "outputId": "bd47aa3d-ba85-4b01-99a0-1ba8964f8c12"
      },
      "execution_count": 8,
      "outputs": [
        {
          "output_type": "stream",
          "name": "stdout",
          "text": [
            "64\n"
          ]
        }
      ]
    },
    {
      "cell_type": "code",
      "source": [
        "# Considering a four dimensions array, how to get sum over the last two axis at once\n",
        "\n",
        "A = np.random.randint(0,10,(3,4,3,4))\n",
        "sum = A.reshape(A.shape[:-2] + (-1,)).sum(axis=-1)\n",
        "print(sum)"
      ],
      "metadata": {
        "colab": {
          "base_uri": "https://localhost:8080/"
        },
        "id": "SI-YMeycijQ6",
        "outputId": "983ef129-a3b4-49d2-c83f-6400c15894f5"
      },
      "execution_count": 9,
      "outputs": [
        {
          "output_type": "stream",
          "name": "stdout",
          "text": [
            "[[47 59 46 52]\n",
            " [64 50 50 49]\n",
            " [62 39 62 62]]\n"
          ]
        }
      ]
    },
    {
      "cell_type": "code",
      "source": [
        "# Considering a one-dimensional vector D, how to compute means of subsets of D using a vector S of same size describing subset indices\n",
        "\n",
        "D = np.random.uniform(0,1,100)\n",
        "S = np.random.randint(0,10,100)\n",
        "D_sums = np.bincount(S, weights=D)\n",
        "D_counts = np.bincount(S)\n",
        "D_means = D_sums / D_counts\n",
        "print(D_means)"
      ],
      "metadata": {
        "colab": {
          "base_uri": "https://localhost:8080/"
        },
        "id": "G19mICdljhon",
        "outputId": "e08d686d-0abc-47a5-bdf5-c06d86056d2d"
      },
      "execution_count": 10,
      "outputs": [
        {
          "output_type": "stream",
          "name": "stdout",
          "text": [
            "[0.39279785 0.49658254 0.52540522 0.41359128 0.48920027 0.52966641\n",
            " 0.56045731 0.46876747 0.43058281 0.50352998]\n"
          ]
        }
      ]
    },
    {
      "cell_type": "code",
      "source": [
        "# How to get the diagonal of a dot product\n",
        "\n",
        "A = np.random.uniform(0,1,(5,5))\n",
        "B = np.random.uniform(0,1,(5,5))\n",
        "\n",
        "np.diag(np.dot(A, B))"
      ],
      "metadata": {
        "colab": {
          "base_uri": "https://localhost:8080/"
        },
        "id": "65FsZABIjiNZ",
        "outputId": "adca1aa3-531e-4ca5-8aa9-df678cdc4306"
      },
      "execution_count": 11,
      "outputs": [
        {
          "output_type": "execute_result",
          "data": {
            "text/plain": [
              "array([0.90088937, 0.83320071, 1.59296877, 0.58191481, 1.44138929])"
            ]
          },
          "metadata": {},
          "execution_count": 11
        }
      ]
    },
    {
      "cell_type": "code",
      "source": [
        "# Consider the vector [1, 2, 3, 4, 5], how to build a new vector with 3 consecutive zeros interleaved between each value\n",
        "\n",
        "Z = np.array([1,2,3,4,5])\n",
        "nz = 3\n",
        "Z0 = np.zeros(len(Z) + (len(Z)-1)*(nz))\n",
        "Z0[::nz+1] = Z\n",
        "print(Z0)"
      ],
      "metadata": {
        "colab": {
          "base_uri": "https://localhost:8080/"
        },
        "id": "gQILioelkkai",
        "outputId": "49fdaa25-f767-4d7e-953c-d6110324fc65"
      },
      "execution_count": 12,
      "outputs": [
        {
          "output_type": "stream",
          "name": "stdout",
          "text": [
            "[1. 0. 0. 0. 2. 0. 0. 0. 3. 0. 0. 0. 4. 0. 0. 0. 5.]\n"
          ]
        }
      ]
    },
    {
      "cell_type": "code",
      "source": [
        "# Consider an array of dimension (5,5,3), how to mulitply it by an array with dimensions\n",
        "\n",
        "A = np.ones((5,5,3))\n",
        "B = 2*np.ones((5,5))\n",
        "print(A * B[:,:,None])"
      ],
      "metadata": {
        "colab": {
          "base_uri": "https://localhost:8080/"
        },
        "id": "rOK6-cGgkk1b",
        "outputId": "f787f35d-40c5-4c45-bf24-74b7210c2dfe"
      },
      "execution_count": 13,
      "outputs": [
        {
          "output_type": "stream",
          "name": "stdout",
          "text": [
            "[[[2. 2. 2.]\n",
            "  [2. 2. 2.]\n",
            "  [2. 2. 2.]\n",
            "  [2. 2. 2.]\n",
            "  [2. 2. 2.]]\n",
            "\n",
            " [[2. 2. 2.]\n",
            "  [2. 2. 2.]\n",
            "  [2. 2. 2.]\n",
            "  [2. 2. 2.]\n",
            "  [2. 2. 2.]]\n",
            "\n",
            " [[2. 2. 2.]\n",
            "  [2. 2. 2.]\n",
            "  [2. 2. 2.]\n",
            "  [2. 2. 2.]\n",
            "  [2. 2. 2.]]\n",
            "\n",
            " [[2. 2. 2.]\n",
            "  [2. 2. 2.]\n",
            "  [2. 2. 2.]\n",
            "  [2. 2. 2.]\n",
            "  [2. 2. 2.]]\n",
            "\n",
            " [[2. 2. 2.]\n",
            "  [2. 2. 2.]\n",
            "  [2. 2. 2.]\n",
            "  [2. 2. 2.]\n",
            "  [2. 2. 2.]]]\n"
          ]
        }
      ]
    },
    {
      "cell_type": "code",
      "source": [
        "# How to swap two rows of an array\n",
        "\n",
        "A = np.arange(25).reshape(5,5)\n",
        "A[[0,1]] = A[[1,0]]\n",
        "print(A)\n"
      ],
      "metadata": {
        "colab": {
          "base_uri": "https://localhost:8080/"
        },
        "id": "b9Zwub3KkyGX",
        "outputId": "5775ed1d-acf2-4845-c4d8-67398e1ab7c4"
      },
      "execution_count": 14,
      "outputs": [
        {
          "output_type": "stream",
          "name": "stdout",
          "text": [
            "[[ 5  6  7  8  9]\n",
            " [ 0  1  2  3  4]\n",
            " [10 11 12 13 14]\n",
            " [15 16 17 18 19]\n",
            " [20 21 22 23 24]]\n"
          ]
        }
      ]
    },
    {
      "cell_type": "code",
      "source": [
        "# Consider a set of 10 triplets describing 10 triangles (with shared vertices),\n",
        "# find the set of unique line segments composing all the triangles\n",
        "\n",
        "faces = np.random.randint(0,100,(10,3))\n",
        "F = np.roll(faces.repeat(2,axis=1),-1,axis=1)\n",
        "F = F.reshape(len(F)*3,2)\n",
        "F = np.sort(F,axis=1)\n",
        "G = F.view( dtype=[('p0',F.dtype),('p1',F.dtype)] )\n",
        "G = np.unique(G)\n",
        "print(G)"
      ],
      "metadata": {
        "colab": {
          "base_uri": "https://localhost:8080/"
        },
        "id": "_lWy4zzYkxip",
        "outputId": "270c5802-12a8-4a95-e1fe-e12cba21733f"
      },
      "execution_count": 15,
      "outputs": [
        {
          "output_type": "stream",
          "name": "stdout",
          "text": [
            "[( 0,  4) ( 0, 88) ( 3, 51) ( 3, 90) ( 4, 88) ( 5, 15) ( 5, 26) ( 8, 57)\n",
            " ( 8, 59) ( 9, 61) ( 9, 98) (12, 67) (12, 81) (15, 26) (21, 38) (21, 57)\n",
            " (23, 56) (23, 76) (34, 38) (34, 86) (38, 57) (38, 86) (47, 52) (47, 94)\n",
            " (51, 90) (52, 94) (56, 76) (57, 59) (61, 98) (67, 81)]\n"
          ]
        }
      ]
    },
    {
      "cell_type": "code",
      "source": [
        "# Given a sorted array C that corresponds to a bincount, how to produce an array A such that np.bincount(A) == C\n",
        "\n",
        "C = np.bincount([1,1,2,3,4,4,6])\n",
        "A = np.repeat(np.arange(len(C)), C)\n",
        "print(A)"
      ],
      "metadata": {
        "colab": {
          "base_uri": "https://localhost:8080/"
        },
        "id": "u5YeCxZjkw7d",
        "outputId": "1d93f471-aef0-46d6-b28e-fa6912dc84d5"
      },
      "execution_count": 16,
      "outputs": [
        {
          "output_type": "stream",
          "name": "stdout",
          "text": [
            "[1 1 2 3 4 4 6]\n"
          ]
        }
      ]
    },
    {
      "cell_type": "code",
      "source": [
        "# How to compute averages using a sliding window over an array\n",
        "\n",
        "from numpy.lib.stride_tricks import sliding_window_view\n",
        "Z = np.arange(20)\n",
        "print(sliding_window_view(Z, window_shape=3).mean(axis=-1))\n"
      ],
      "metadata": {
        "colab": {
          "base_uri": "https://localhost:8080/"
        },
        "id": "-khKj-GOlBDX",
        "outputId": "09e69b3b-9d73-48ba-9670-7154ddcb177d"
      },
      "execution_count": 18,
      "outputs": [
        {
          "output_type": "stream",
          "name": "stdout",
          "text": [
            "[ 1.  2.  3.  4.  5.  6.  7.  8.  9. 10. 11. 12. 13. 14. 15. 16. 17. 18.]\n"
          ]
        }
      ]
    },
    {
      "cell_type": "code",
      "source": [
        "# Consider a one-dimensional array Z,\n",
        "# build a two-dimensional array whose first row is (Z[0],Z[1],Z[2]) and\n",
        "# each subsequent row is shifted by 1 (last row should be (Z[-3],Z[-2],Z[-1])\n",
        "\n",
        "\n",
        "Z = np.arange(10)\n",
        "print(sliding_window_view(Z, window_shape=3))\n"
      ],
      "metadata": {
        "colab": {
          "base_uri": "https://localhost:8080/"
        },
        "id": "-g6SeIW-lBhs",
        "outputId": "fdffc6b7-6c28-46c2-850f-eecfe65ea6f6"
      },
      "execution_count": 19,
      "outputs": [
        {
          "output_type": "stream",
          "name": "stdout",
          "text": [
            "[[0 1 2]\n",
            " [1 2 3]\n",
            " [2 3 4]\n",
            " [3 4 5]\n",
            " [4 5 6]\n",
            " [5 6 7]\n",
            " [6 7 8]\n",
            " [7 8 9]]\n"
          ]
        }
      ]
    },
    {
      "cell_type": "code",
      "source": [
        "# How to negate a boolean, or to change the sign of a float inplace\n",
        "\n",
        "Z = np.random.randint(0,2,100)\n",
        "np.logical_not(Z, out=Z)\n",
        "\n",
        "Z = np.random.uniform(-1.0,1.0,100)\n",
        "np.negative(Z, out=Z)\n"
      ],
      "metadata": {
        "colab": {
          "base_uri": "https://localhost:8080/"
        },
        "id": "P1ERtE91lCOc",
        "outputId": "786b6d13-f8d5-43ea-ed6a-c489a6df2ffd"
      },
      "execution_count": 20,
      "outputs": [
        {
          "output_type": "execute_result",
          "data": {
            "text/plain": [
              "array([ 0.40286996,  0.5551137 , -0.2452888 ,  0.50842393, -0.15981109,\n",
              "        0.99911603, -0.03886134,  0.63908437,  0.73563937,  0.43289847,\n",
              "        0.69699055, -0.5562326 , -0.22185129, -0.77901185, -0.88529598,\n",
              "        0.7921135 , -0.73504868,  0.90597002, -0.82719391, -0.04691282,\n",
              "        0.21222789,  0.95308316,  0.12231401,  0.45857881, -0.91727347,\n",
              "       -0.61379784,  0.70786907,  0.5156301 ,  0.30850097, -0.22453886,\n",
              "        0.27860628,  0.19003622,  0.22636302, -0.84828504,  0.2771514 ,\n",
              "       -0.8380968 ,  0.09067254,  0.6627017 , -0.03299432, -0.94513417,\n",
              "       -0.78063842,  0.35328157,  0.22828475,  0.99191444, -0.04161815,\n",
              "        0.190932  , -0.34335028,  0.89178611,  0.26676662, -0.11258393,\n",
              "       -0.03322054,  0.8206834 , -0.05011197, -0.77471117, -0.48128028,\n",
              "       -0.65340121, -0.72215699, -0.38552687, -0.01889977, -0.65525032,\n",
              "        0.70369293, -0.82070123, -0.82761877,  0.65449578,  0.37784124,\n",
              "        0.41465601,  0.9064556 , -0.2088198 ,  0.92793127, -0.64778966,\n",
              "        0.42979986,  0.66171597,  0.31725256, -0.48774898, -0.67886115,\n",
              "        0.71731662, -0.93540032, -0.50693046,  0.33782501, -0.93021948,\n",
              "       -0.94829172,  0.10379803,  0.59585467, -0.9083252 ,  0.03188727,\n",
              "       -0.450766  , -0.17495845,  0.93729956, -0.28369644,  0.6197974 ,\n",
              "       -0.42103873,  0.72981369, -0.27398791, -0.59423535, -0.9404833 ,\n",
              "       -0.26039808, -0.17743911,  0.57833987,  0.23456954,  0.66887502])"
            ]
          },
          "metadata": {},
          "execution_count": 20
        }
      ]
    },
    {
      "cell_type": "code",
      "source": [
        "# Consider 2 sets of points P0,P1 describing lines (2d) and a point p,\n",
        "# how to compute distance from p to each line i (P0[i],P1[i])\n",
        "\n",
        "def distance(P0, P1, p):\n",
        "    T = P1 - P0\n",
        "    L = (T**2).sum(axis=1)\n",
        "    U = -((P0[:,0]-p[...,0])*T[:,0] + (P0[:,1]-p[...,1])*T[:,1]) / L\n",
        "    U = U.reshape(len(U),1)\n",
        "    D = P0 + U*T - p\n",
        "    return np.sqrt((D**2).sum(axis=1))\n",
        "\n",
        "P0 = np.random.uniform(-10,10,(10,2))\n",
        "P1 = np.random.uniform(-10,10,(10,2))\n",
        "p  = np.random.uniform(-10,10,( 1,2))\n",
        "print(distance(P0, P1, p))"
      ],
      "metadata": {
        "colab": {
          "base_uri": "https://localhost:8080/"
        },
        "id": "nwz85bznlC6a",
        "outputId": "8285ea4f-2f5a-4ee8-e627-7ea12a0e4e75"
      },
      "execution_count": 22,
      "outputs": [
        {
          "output_type": "stream",
          "name": "stdout",
          "text": [
            "[13.20862198  3.85773518 12.85276382 12.40202617  6.94093977 12.89375912\n",
            "  9.87379588  1.27408593  4.13452323  0.59941586]\n"
          ]
        }
      ]
    },
    {
      "cell_type": "code",
      "source": [
        "# Consider 2 sets of points P0,P1 describing lines (2d) and a set of points P,\n",
        "# how to compute distance from each point j (P[j]) to each line i (P0[i],P1[i]\n",
        "\n",
        "P0 = np.random.uniform(-10, 10, (10,2))\n",
        "P1 = np.random.uniform(-10,10,(10,2))\n",
        "p = np.random.uniform(-10, 10, (10,2))\n",
        "print(np.array([distance(P0,P1,p_i) for p_i in p]))"
      ],
      "metadata": {
        "colab": {
          "base_uri": "https://localhost:8080/"
        },
        "id": "J-G2jAtFlk42",
        "outputId": "834eb8c8-9b12-4e54-eccf-ea1805b55278"
      },
      "execution_count": 23,
      "outputs": [
        {
          "output_type": "stream",
          "name": "stdout",
          "text": [
            "[[ 3.65797249  7.66446131  2.09318406 11.2843245   9.09621876 14.73115589\n",
            "   0.99949153 16.75004409  0.4929382   0.33708247]\n",
            " [ 0.66937929  2.09392552  8.04696437  4.39482161  5.76871922  4.56736832\n",
            "   3.21622547  7.37951707  0.66980027  5.30661064]\n",
            " [ 3.68611657  7.9336655   2.46354144 11.47071596  9.13742849 15.09898322\n",
            "   0.83913533 17.11856396  0.61691054  0.23093607]\n",
            " [ 4.19037463  6.93917603 15.87847208  3.76822602  8.97850017  3.0382208\n",
            "  10.64098424  1.74800521  7.43250914  3.7221583 ]\n",
            " [ 0.08953157  0.76535099 12.45403071  1.83539244  4.85793198  0.17264698\n",
            "   4.70884361  3.13182381  1.71841397  6.96413291]\n",
            " [ 5.71199895  3.40829314  9.8347202   7.66542543 10.70432354  3.00874444\n",
            "   9.06530582  3.92123828  6.47826578  1.00174167]\n",
            " [ 2.32839209  1.58995874 11.77138821  0.3341707   2.66259389  0.75467035\n",
            "   2.16830174  4.55397102  0.81478964  8.89942914]\n",
            " [ 7.57173738  2.75513962 15.6902356   5.62083899  2.67703312  3.34456811\n",
            "   0.98167549  2.25842012  4.47869496 14.6231602 ]\n",
            " [ 7.74136272  2.29174042  6.33013431 10.84901174 12.84236212  6.56324077\n",
            "   9.2757248   6.83667648  7.07894116  1.64275439]\n",
            " [ 8.73164288 14.29608637  2.2483603   0.61259366  3.34421775  9.91410614\n",
            "   8.93949618 16.34103048 11.17286095 12.79986131]]\n"
          ]
        }
      ]
    },
    {
      "cell_type": "code",
      "source": [
        "# Consider an arbitrary array,\n",
        "# write a function that extract a subpart with a fixed shape and centered on a given element (pad with a fill value when necessary)\n",
        "\n",
        "Z = np.random.randint(0,10,(10,10))\n",
        "shape = (5,5)\n",
        "fill  = 0\n",
        "position = (1,1)\n",
        "\n",
        "R = np.ones(shape, dtype=Z.dtype)*fill\n",
        "P  = np.array(list(position)).astype(int)\n",
        "Rs = np.array(list(R.shape)).astype(int)\n",
        "Zs = np.array(list(Z.shape)).astype(int)\n",
        "\n",
        "R_start = np.zeros((len(shape),)).astype(int)\n",
        "R_stop  = np.array(list(shape)).astype(int)\n",
        "Z_start = (P-Rs//2)\n",
        "Z_stop  = (P+Rs//2)+Rs%2\n",
        "\n",
        "R_start = (R_start - np.minimum(Z_start,0)).tolist()\n",
        "Z_start = (np.maximum(Z_start,0)).tolist()\n",
        "R_stop = np.maximum(R_start, (R_stop - np.maximum(Z_stop-Zs,0))).tolist()\n",
        "Z_stop = (np.minimum(Z_stop,Zs)).tolist()\n",
        "\n",
        "r = [slice(start,stop) for start,stop in zip(R_start,R_stop)]\n",
        "z = [slice(start,stop) for start,stop in zip(Z_start,Z_stop)]\n",
        "\n",
        "print(Z)\n",
        "print(R)"
      ],
      "metadata": {
        "colab": {
          "base_uri": "https://localhost:8080/"
        },
        "id": "SEgyaorVllZB",
        "outputId": "2d951d00-8202-42be-c9b1-7a63eb39ec3a"
      },
      "execution_count": 25,
      "outputs": [
        {
          "output_type": "stream",
          "name": "stdout",
          "text": [
            "[[4 7 8 2 4 1 6 8 4 0]\n",
            " [9 5 4 8 9 6 2 3 7 5]\n",
            " [1 9 3 3 8 4 7 5 7 8]\n",
            " [1 2 3 5 5 7 0 9 7 7]\n",
            " [4 2 8 8 5 3 0 5 0 5]\n",
            " [0 0 1 7 6 1 7 7 5 3]\n",
            " [6 6 5 2 0 6 7 4 9 1]\n",
            " [3 5 3 7 3 5 7 7 9 2]\n",
            " [4 0 3 8 2 6 3 8 5 6]\n",
            " [2 2 4 0 4 4 2 3 1 9]]\n",
            "[[0 0 0 0 0]\n",
            " [0 0 0 0 0]\n",
            " [0 0 0 0 0]\n",
            " [0 0 0 0 0]\n",
            " [0 0 0 0 0]]\n"
          ]
        }
      ]
    },
    {
      "cell_type": "code",
      "source": [
        "#  Consider an array Z = [1,2,3,4,5,6,7,8,9,10,11,12,13,14], how to generate an array R = [[1,2,3,4], [2,3,4,5], [3,4,5,6], ..., [11,12,13,14]]\n",
        "\n",
        "Z = np.arange(1, 15, dtype=np.uint32)\n",
        "print(sliding_window_view(Z, window_shape=4))"
      ],
      "metadata": {
        "colab": {
          "base_uri": "https://localhost:8080/"
        },
        "id": "9jB1JB3xl3Tz",
        "outputId": "ab0652c3-dda2-42ab-9709-31c149d5f179"
      },
      "execution_count": 26,
      "outputs": [
        {
          "output_type": "stream",
          "name": "stdout",
          "text": [
            "[[ 1  2  3  4]\n",
            " [ 2  3  4  5]\n",
            " [ 3  4  5  6]\n",
            " [ 4  5  6  7]\n",
            " [ 5  6  7  8]\n",
            " [ 6  7  8  9]\n",
            " [ 7  8  9 10]\n",
            " [ 8  9 10 11]\n",
            " [ 9 10 11 12]\n",
            " [10 11 12 13]\n",
            " [11 12 13 14]]\n"
          ]
        }
      ]
    },
    {
      "cell_type": "code",
      "source": [
        "# Compute a matrix rank\n",
        "\n",
        "Z = np.random.uniform(0,1,(10,10))\n",
        "U, S, V = np.linalg.svd(Z) # Singular Value Decomposition\n",
        "rank = np.sum(S > 1e-10)\n",
        "print(rank)"
      ],
      "metadata": {
        "colab": {
          "base_uri": "https://localhost:8080/"
        },
        "id": "mv41Zzegl4Df",
        "outputId": "3dcdfe60-7f3d-49b4-b91d-5ed32bd354c8"
      },
      "execution_count": 27,
      "outputs": [
        {
          "output_type": "stream",
          "name": "stdout",
          "text": [
            "10\n"
          ]
        }
      ]
    },
    {
      "cell_type": "code",
      "source": [
        "# How to find the most frequent value in an array\n",
        "\n",
        "Z = np.random.randint(0,10,50)\n",
        "print(np.bincount(Z).argmax())"
      ],
      "metadata": {
        "colab": {
          "base_uri": "https://localhost:8080/"
        },
        "id": "v2fGxq_9l4tt",
        "outputId": "f2333f85-6ac2-45ab-c5d8-8a3968e5f81b"
      },
      "execution_count": 28,
      "outputs": [
        {
          "output_type": "stream",
          "name": "stdout",
          "text": [
            "3\n"
          ]
        }
      ]
    },
    {
      "cell_type": "code",
      "source": [
        "# Extract all the contiguous 3x3 blocks from a random 10x10 matrix\n",
        "\n",
        "Z = np.random.randint(0,5,(10,10))\n",
        "print(sliding_window_view(Z, window_shape=(3, 3)))"
      ],
      "metadata": {
        "colab": {
          "base_uri": "https://localhost:8080/"
        },
        "id": "IyF0wrHYmIiL",
        "outputId": "c9a7e0e2-5366-4c3b-ae16-0b14f01180c6"
      },
      "execution_count": 30,
      "outputs": [
        {
          "output_type": "stream",
          "name": "stdout",
          "text": [
            "[[[[2 0 0]\n",
            "   [4 1 4]\n",
            "   [1 1 1]]\n",
            "\n",
            "  [[0 0 1]\n",
            "   [1 4 1]\n",
            "   [1 1 3]]\n",
            "\n",
            "  [[0 1 3]\n",
            "   [4 1 0]\n",
            "   [1 3 3]]\n",
            "\n",
            "  [[1 3 2]\n",
            "   [1 0 2]\n",
            "   [3 3 2]]\n",
            "\n",
            "  [[3 2 4]\n",
            "   [0 2 4]\n",
            "   [3 2 2]]\n",
            "\n",
            "  [[2 4 3]\n",
            "   [2 4 1]\n",
            "   [2 2 3]]\n",
            "\n",
            "  [[4 3 0]\n",
            "   [4 1 3]\n",
            "   [2 3 0]]\n",
            "\n",
            "  [[3 0 1]\n",
            "   [1 3 2]\n",
            "   [3 0 1]]]\n",
            "\n",
            "\n",
            " [[[4 1 4]\n",
            "   [1 1 1]\n",
            "   [2 0 3]]\n",
            "\n",
            "  [[1 4 1]\n",
            "   [1 1 3]\n",
            "   [0 3 1]]\n",
            "\n",
            "  [[4 1 0]\n",
            "   [1 3 3]\n",
            "   [3 1 0]]\n",
            "\n",
            "  [[1 0 2]\n",
            "   [3 3 2]\n",
            "   [1 0 0]]\n",
            "\n",
            "  [[0 2 4]\n",
            "   [3 2 2]\n",
            "   [0 0 4]]\n",
            "\n",
            "  [[2 4 1]\n",
            "   [2 2 3]\n",
            "   [0 4 2]]\n",
            "\n",
            "  [[4 1 3]\n",
            "   [2 3 0]\n",
            "   [4 2 0]]\n",
            "\n",
            "  [[1 3 2]\n",
            "   [3 0 1]\n",
            "   [2 0 4]]]\n",
            "\n",
            "\n",
            " [[[1 1 1]\n",
            "   [2 0 3]\n",
            "   [4 0 1]]\n",
            "\n",
            "  [[1 1 3]\n",
            "   [0 3 1]\n",
            "   [0 1 0]]\n",
            "\n",
            "  [[1 3 3]\n",
            "   [3 1 0]\n",
            "   [1 0 4]]\n",
            "\n",
            "  [[3 3 2]\n",
            "   [1 0 0]\n",
            "   [0 4 1]]\n",
            "\n",
            "  [[3 2 2]\n",
            "   [0 0 4]\n",
            "   [4 1 0]]\n",
            "\n",
            "  [[2 2 3]\n",
            "   [0 4 2]\n",
            "   [1 0 1]]\n",
            "\n",
            "  [[2 3 0]\n",
            "   [4 2 0]\n",
            "   [0 1 1]]\n",
            "\n",
            "  [[3 0 1]\n",
            "   [2 0 4]\n",
            "   [1 1 1]]]\n",
            "\n",
            "\n",
            " [[[2 0 3]\n",
            "   [4 0 1]\n",
            "   [0 4 2]]\n",
            "\n",
            "  [[0 3 1]\n",
            "   [0 1 0]\n",
            "   [4 2 2]]\n",
            "\n",
            "  [[3 1 0]\n",
            "   [1 0 4]\n",
            "   [2 2 0]]\n",
            "\n",
            "  [[1 0 0]\n",
            "   [0 4 1]\n",
            "   [2 0 0]]\n",
            "\n",
            "  [[0 0 4]\n",
            "   [4 1 0]\n",
            "   [0 0 1]]\n",
            "\n",
            "  [[0 4 2]\n",
            "   [1 0 1]\n",
            "   [0 1 0]]\n",
            "\n",
            "  [[4 2 0]\n",
            "   [0 1 1]\n",
            "   [1 0 4]]\n",
            "\n",
            "  [[2 0 4]\n",
            "   [1 1 1]\n",
            "   [0 4 1]]]\n",
            "\n",
            "\n",
            " [[[4 0 1]\n",
            "   [0 4 2]\n",
            "   [1 4 0]]\n",
            "\n",
            "  [[0 1 0]\n",
            "   [4 2 2]\n",
            "   [4 0 2]]\n",
            "\n",
            "  [[1 0 4]\n",
            "   [2 2 0]\n",
            "   [0 2 4]]\n",
            "\n",
            "  [[0 4 1]\n",
            "   [2 0 0]\n",
            "   [2 4 0]]\n",
            "\n",
            "  [[4 1 0]\n",
            "   [0 0 1]\n",
            "   [4 0 1]]\n",
            "\n",
            "  [[1 0 1]\n",
            "   [0 1 0]\n",
            "   [0 1 2]]\n",
            "\n",
            "  [[0 1 1]\n",
            "   [1 0 4]\n",
            "   [1 2 4]]\n",
            "\n",
            "  [[1 1 1]\n",
            "   [0 4 1]\n",
            "   [2 4 3]]]\n",
            "\n",
            "\n",
            " [[[0 4 2]\n",
            "   [1 4 0]\n",
            "   [1 1 3]]\n",
            "\n",
            "  [[4 2 2]\n",
            "   [4 0 2]\n",
            "   [1 3 3]]\n",
            "\n",
            "  [[2 2 0]\n",
            "   [0 2 4]\n",
            "   [3 3 2]]\n",
            "\n",
            "  [[2 0 0]\n",
            "   [2 4 0]\n",
            "   [3 2 1]]\n",
            "\n",
            "  [[0 0 1]\n",
            "   [4 0 1]\n",
            "   [2 1 2]]\n",
            "\n",
            "  [[0 1 0]\n",
            "   [0 1 2]\n",
            "   [1 2 4]]\n",
            "\n",
            "  [[1 0 4]\n",
            "   [1 2 4]\n",
            "   [2 4 4]]\n",
            "\n",
            "  [[0 4 1]\n",
            "   [2 4 3]\n",
            "   [4 4 3]]]\n",
            "\n",
            "\n",
            " [[[1 4 0]\n",
            "   [1 1 3]\n",
            "   [2 3 0]]\n",
            "\n",
            "  [[4 0 2]\n",
            "   [1 3 3]\n",
            "   [3 0 1]]\n",
            "\n",
            "  [[0 2 4]\n",
            "   [3 3 2]\n",
            "   [0 1 0]]\n",
            "\n",
            "  [[2 4 0]\n",
            "   [3 2 1]\n",
            "   [1 0 4]]\n",
            "\n",
            "  [[4 0 1]\n",
            "   [2 1 2]\n",
            "   [0 4 0]]\n",
            "\n",
            "  [[0 1 2]\n",
            "   [1 2 4]\n",
            "   [4 0 3]]\n",
            "\n",
            "  [[1 2 4]\n",
            "   [2 4 4]\n",
            "   [0 3 1]]\n",
            "\n",
            "  [[2 4 3]\n",
            "   [4 4 3]\n",
            "   [3 1 1]]]\n",
            "\n",
            "\n",
            " [[[1 1 3]\n",
            "   [2 3 0]\n",
            "   [3 4 4]]\n",
            "\n",
            "  [[1 3 3]\n",
            "   [3 0 1]\n",
            "   [4 4 1]]\n",
            "\n",
            "  [[3 3 2]\n",
            "   [0 1 0]\n",
            "   [4 1 2]]\n",
            "\n",
            "  [[3 2 1]\n",
            "   [1 0 4]\n",
            "   [1 2 2]]\n",
            "\n",
            "  [[2 1 2]\n",
            "   [0 4 0]\n",
            "   [2 2 4]]\n",
            "\n",
            "  [[1 2 4]\n",
            "   [4 0 3]\n",
            "   [2 4 2]]\n",
            "\n",
            "  [[2 4 4]\n",
            "   [0 3 1]\n",
            "   [4 2 3]]\n",
            "\n",
            "  [[4 4 3]\n",
            "   [3 1 1]\n",
            "   [2 3 2]]]]\n"
          ]
        }
      ]
    },
    {
      "cell_type": "code",
      "source": [
        "# Create a 2D array subclass such that Z[i,j] == Z[j,i]\n",
        "\n",
        "class Symetric(np.ndarray):\n",
        "    def __setitem__(self, index, value):\n",
        "        i,j = index\n",
        "        super(Symetric, self).__setitem__((i,j), value)\n",
        "        super(Symetric, self).__setitem__((j,i), value)\n",
        "\n",
        "def symetric(Z):\n",
        "    return np.asarray(Z + Z.T - np.diag(Z.diagonal())).view(Symetric)\n",
        "\n",
        "S = symetric(np.random.randint(0,10,(5,5)))\n",
        "S[2,3] = 42\n",
        "print(S)"
      ],
      "metadata": {
        "colab": {
          "base_uri": "https://localhost:8080/"
        },
        "id": "nZzy3-qPmTjx",
        "outputId": "0f3d1d23-69ec-4d09-d770-f5707eb46f42"
      },
      "execution_count": 31,
      "outputs": [
        {
          "output_type": "stream",
          "name": "stdout",
          "text": [
            "[[ 3  5  4  9 12]\n",
            " [ 5  1  6 16 11]\n",
            " [ 4  6  2 42  5]\n",
            " [ 9 16 42  1  8]\n",
            " [12 11  5  8  4]]\n"
          ]
        }
      ]
    },
    {
      "cell_type": "code",
      "source": [
        "# Consider a set of p matrices wich shape (n,n) and a set of p vectors with shape (n,1).\n",
        "# How to compute the sum of of the p matrix products at once? (result has shape (n,1))\n",
        "\n",
        "p, n = 10, 20\n",
        "M = np.ones((p,n,n))\n",
        "V = np.ones((p,n,1))\n",
        "S = np.tensordot(M, V, axes=[[0, 2], [0, 1]])\n",
        "print(S)"
      ],
      "metadata": {
        "colab": {
          "base_uri": "https://localhost:8080/"
        },
        "id": "TyC-j_3wmUS6",
        "outputId": "97802964-314f-4aa1-d2cd-e9fcd9dfbdee"
      },
      "execution_count": 32,
      "outputs": [
        {
          "output_type": "stream",
          "name": "stdout",
          "text": [
            "[[200.]\n",
            " [200.]\n",
            " [200.]\n",
            " [200.]\n",
            " [200.]\n",
            " [200.]\n",
            " [200.]\n",
            " [200.]\n",
            " [200.]\n",
            " [200.]\n",
            " [200.]\n",
            " [200.]\n",
            " [200.]\n",
            " [200.]\n",
            " [200.]\n",
            " [200.]\n",
            " [200.]\n",
            " [200.]\n",
            " [200.]\n",
            " [200.]]\n"
          ]
        }
      ]
    },
    {
      "cell_type": "code",
      "source": [
        "# Consider a 16x16 array, how to get the block-sum (block size is 4x4)\n",
        "\n",
        "Z = np.ones((16,16))\n",
        "k = 4\n",
        "\n",
        "windows = np.lib.stride_tricks.sliding_window_view(Z, (k, k))\n",
        "S = windows[::k, ::k, ...].sum(axis=(-2, -1))\n",
        "print(S)"
      ],
      "metadata": {
        "colab": {
          "base_uri": "https://localhost:8080/"
        },
        "id": "eSzl3_RHnTuP",
        "outputId": "0308953c-fa98-4447-f8ca-fa88c20fc394"
      },
      "execution_count": 34,
      "outputs": [
        {
          "output_type": "stream",
          "name": "stdout",
          "text": [
            "[[16. 16. 16. 16.]\n",
            " [16. 16. 16. 16.]\n",
            " [16. 16. 16. 16.]\n",
            " [16. 16. 16. 16.]]\n"
          ]
        }
      ]
    },
    {
      "cell_type": "code",
      "source": [
        "# How to implement the Game of Life using numpy arrays\n",
        "\n",
        "def iterate(Z):\n",
        "    # Count neighbours\n",
        "    N = (Z[0:-2,0:-2] + Z[0:-2,1:-1] + Z[0:-2,2:] +\n",
        "         Z[1:-1,0:-2]                + Z[1:-1,2:] +\n",
        "         Z[2:  ,0:-2] + Z[2:  ,1:-1] + Z[2:  ,2:])\n",
        "\n",
        "    # Apply rules\n",
        "    birth = (N==3) & (Z[1:-1,1:-1]==0)\n",
        "    survive = ((N==2) | (N==3)) & (Z[1:-1,1:-1]==1)\n",
        "    Z[...] = 0\n",
        "    Z[1:-1,1:-1][birth | survive] = 1\n",
        "    return Z\n",
        "\n",
        "Z = np.random.randint(0,2,(50,50))\n",
        "for i in range(100): Z = iterate(Z)\n",
        "print(Z)"
      ],
      "metadata": {
        "colab": {
          "base_uri": "https://localhost:8080/"
        },
        "id": "RQR8opKGnTjg",
        "outputId": "c8b5fd04-d7e0-4f8e-fda8-666cdd51eb6e"
      },
      "execution_count": 35,
      "outputs": [
        {
          "output_type": "stream",
          "name": "stdout",
          "text": [
            "[[0 0 0 ... 0 0 0]\n",
            " [0 0 0 ... 0 0 0]\n",
            " [0 0 0 ... 0 0 0]\n",
            " ...\n",
            " [0 0 0 ... 1 1 0]\n",
            " [0 0 0 ... 1 1 0]\n",
            " [0 0 0 ... 0 0 0]]\n"
          ]
        }
      ]
    },
    {
      "cell_type": "code",
      "source": [
        "# How to get the n largest values of an array\n",
        "\n",
        "Z = np.arange(10000)\n",
        "np.random.shuffle(Z)\n",
        "n = 5\n",
        "print (Z[np.argpartition(-Z,n)[:n]])"
      ],
      "metadata": {
        "colab": {
          "base_uri": "https://localhost:8080/"
        },
        "id": "ysQwcPl7nTY-",
        "outputId": "eceacc4e-853d-4085-d5fe-24ce78c043ad"
      },
      "execution_count": 36,
      "outputs": [
        {
          "output_type": "stream",
          "name": "stdout",
          "text": [
            "[9997 9999 9998 9996 9995]\n"
          ]
        }
      ]
    },
    {
      "cell_type": "code",
      "source": [
        "# Given an arbitrary number of vectors, build the cartesian product (every combinations of every item)\n",
        "\n",
        "def cartesian(arrays):\n",
        "    arrays = [np.asarray(a) for a in arrays]\n",
        "    shape = (len(x) for x in arrays)\n",
        "\n",
        "    ix = np.indices(shape, dtype=int)\n",
        "    ix = ix.reshape(len(arrays), -1).T\n",
        "\n",
        "    for n, arr in enumerate(arrays):\n",
        "        ix[:, n] = arrays[n][ix[:, n]]\n",
        "\n",
        "    return ix\n",
        "\n",
        "print (cartesian(([1, 2, 3], [4, 5], [6, 7])))"
      ],
      "metadata": {
        "colab": {
          "base_uri": "https://localhost:8080/"
        },
        "id": "3ab3HOhCnTN9",
        "outputId": "7d6415e5-43f0-4f04-f916-d8a8a3df603f"
      },
      "execution_count": 37,
      "outputs": [
        {
          "output_type": "stream",
          "name": "stdout",
          "text": [
            "[[1 4 6]\n",
            " [1 4 7]\n",
            " [1 5 6]\n",
            " [1 5 7]\n",
            " [2 4 6]\n",
            " [2 4 7]\n",
            " [2 5 6]\n",
            " [2 5 7]\n",
            " [3 4 6]\n",
            " [3 4 7]\n",
            " [3 5 6]\n",
            " [3 5 7]]\n"
          ]
        }
      ]
    },
    {
      "cell_type": "code",
      "source": [
        "# How to create a record array from a regular array\n",
        "\n",
        "Z = np.array([(\"Hello\", 2.5, 3),\n",
        "              (\"World\", 3.6, 2)])\n",
        "R = np.core.records.fromarrays(Z.T,\n",
        "                               names='col1, col2, col3',\n",
        "                               formats = 'S8, f8, i8')\n",
        "print(R)"
      ],
      "metadata": {
        "colab": {
          "base_uri": "https://localhost:8080/"
        },
        "id": "b9VDx8pXnxsi",
        "outputId": "57ebae64-a9e7-4b7b-d334-df5d839b3fb3"
      },
      "execution_count": 38,
      "outputs": [
        {
          "output_type": "stream",
          "name": "stdout",
          "text": [
            "[(b'Hello', 2.5, 3) (b'World', 3.6, 2)]\n"
          ]
        }
      ]
    },
    {
      "cell_type": "code",
      "source": [
        "# Consider a large vector Z, compute Z to the power of 3 using 3 different methods\n",
        "\n",
        "x = np.random.rand(int(5e7))\n",
        "\n",
        "%timeit np.power(x,3)\n",
        "%timeit x*x*x\n",
        "%timeit np.einsum('i,i,i->i',x,x,x)"
      ],
      "metadata": {
        "colab": {
          "base_uri": "https://localhost:8080/"
        },
        "id": "4QQ95H-knxdv",
        "outputId": "18f76309-031e-4100-b1ed-6d04a1e7d439"
      },
      "execution_count": 39,
      "outputs": [
        {
          "output_type": "stream",
          "name": "stdout",
          "text": [
            "1.54 s ± 193 ms per loop (mean ± std. dev. of 7 runs, 1 loop each)\n",
            "265 ms ± 22 ms per loop (mean ± std. dev. of 7 runs, 1 loop each)\n",
            "190 ms ± 4.13 ms per loop (mean ± std. dev. of 7 runs, 1 loop each)\n"
          ]
        }
      ]
    },
    {
      "cell_type": "code",
      "source": [
        "# Consider two arrays A and B of shape (8,3) and (2,2).\n",
        "# How to find rows of A that contain elements of each row of B regardless of the order of the elements in B?\n",
        "\n",
        "A = np.random.randint(0,5,(8,3))\n",
        "B = np.random.randint(0,5,(2,2))\n",
        "\n",
        "C = (A[..., np.newaxis, np.newaxis] == B)\n",
        "rows = np.where(C.any((3,1)).all(1))[0]\n",
        "print(rows)"
      ],
      "metadata": {
        "colab": {
          "base_uri": "https://localhost:8080/"
        },
        "id": "S9ZRWQk_nljJ",
        "outputId": "a0818763-ac30-4e38-a5d6-1126fe7c5d2c"
      },
      "execution_count": 40,
      "outputs": [
        {
          "output_type": "stream",
          "name": "stdout",
          "text": [
            "[2 6]\n"
          ]
        }
      ]
    },
    {
      "cell_type": "code",
      "source": [
        "# Considering a 10x3 matrix, extract rows with unequal values (e.g. [2,2,3])\n",
        "\n",
        "Z = np.random.randint(0,5,(10,3))\n",
        "print(Z)\n",
        "# solution for arrays of all dtypes (including string arrays and record arrays)\n",
        "E = np.all(Z[:,1:] == Z[:,:-1], axis=1)\n",
        "U = Z[~E]\n",
        "print(U)\n",
        "# soluiton for numerical arrays only, will work for any number of columns in Z\n",
        "U = Z[Z.max(axis=1) != Z.min(axis=1),:]\n",
        "print(U)"
      ],
      "metadata": {
        "colab": {
          "base_uri": "https://localhost:8080/"
        },
        "id": "vf9k2EztpivU",
        "outputId": "02a28881-cdb8-4595-db4a-3d7bda2972f6"
      },
      "execution_count": 41,
      "outputs": [
        {
          "output_type": "stream",
          "name": "stdout",
          "text": [
            "[[3 4 1]\n",
            " [0 1 1]\n",
            " [2 1 4]\n",
            " [4 4 1]\n",
            " [2 0 2]\n",
            " [0 3 3]\n",
            " [3 3 0]\n",
            " [3 0 0]\n",
            " [4 1 1]\n",
            " [1 1 4]]\n",
            "[[3 4 1]\n",
            " [0 1 1]\n",
            " [2 1 4]\n",
            " [4 4 1]\n",
            " [2 0 2]\n",
            " [0 3 3]\n",
            " [3 3 0]\n",
            " [3 0 0]\n",
            " [4 1 1]\n",
            " [1 1 4]]\n",
            "[[3 4 1]\n",
            " [0 1 1]\n",
            " [2 1 4]\n",
            " [4 4 1]\n",
            " [2 0 2]\n",
            " [0 3 3]\n",
            " [3 3 0]\n",
            " [3 0 0]\n",
            " [4 1 1]\n",
            " [1 1 4]]\n"
          ]
        }
      ]
    },
    {
      "cell_type": "code",
      "source": [
        "# Convert a vector of ints into a matrix binary representation\n",
        "\n",
        "I = np.array([0, 1, 2, 3, 15, 16, 32, 64, 128], dtype=np.uint8)\n",
        "print(np.unpackbits(I[:, np.newaxis], axis=1))"
      ],
      "metadata": {
        "colab": {
          "base_uri": "https://localhost:8080/"
        },
        "id": "IHXFToTDpjST",
        "outputId": "4ebebf67-90cf-42da-bc2e-9d9b85a205ab"
      },
      "execution_count": 42,
      "outputs": [
        {
          "output_type": "stream",
          "name": "stdout",
          "text": [
            "[[0 0 0 0 0 0 0 0]\n",
            " [0 0 0 0 0 0 0 1]\n",
            " [0 0 0 0 0 0 1 0]\n",
            " [0 0 0 0 0 0 1 1]\n",
            " [0 0 0 0 1 1 1 1]\n",
            " [0 0 0 1 0 0 0 0]\n",
            " [0 0 1 0 0 0 0 0]\n",
            " [0 1 0 0 0 0 0 0]\n",
            " [1 0 0 0 0 0 0 0]]\n"
          ]
        }
      ]
    },
    {
      "cell_type": "code",
      "source": [
        "# Given a two dimensional array, how to extract unique rows\n",
        "\n",
        "Z = np.random.randint(0,2,(6,3))\n",
        "T = np.ascontiguousarray(Z).view(np.dtype((np.void, Z.dtype.itemsize * Z.shape[1])))\n",
        "_, idx = np.unique(T, return_index=True)\n",
        "uZ = Z[idx]\n",
        "print(uZ)"
      ],
      "metadata": {
        "colab": {
          "base_uri": "https://localhost:8080/"
        },
        "id": "RVkT9vW4pwzL",
        "outputId": "89454974-d384-40b8-9c47-33a9d31a4330"
      },
      "execution_count": 43,
      "outputs": [
        {
          "output_type": "stream",
          "name": "stdout",
          "text": [
            "[[0 0 0]\n",
            " [0 0 1]\n",
            " [0 1 1]\n",
            " [1 1 0]\n",
            " [1 1 1]]\n"
          ]
        }
      ]
    },
    {
      "cell_type": "code",
      "source": [
        "# Considering 2 vectors A & B, write the einsum equivalent of inner, outer, sum, and mul function\n",
        "\n",
        "A = np.random.uniform(0,1,10)\n",
        "B = np.random.uniform(0,1,10)\n",
        "\n",
        "np.einsum('i->', A)       # np.sum(A)\n",
        "np.einsum('i,i->i', A, B) # A * B\n",
        "np.einsum('i,i', A, B)    # np.inner(A, B)\n",
        "np.einsum('i,j->ij', A, B)    # np.outer(A, B)"
      ],
      "metadata": {
        "colab": {
          "base_uri": "https://localhost:8080/"
        },
        "id": "jDopdOxWpxY8",
        "outputId": "55a4019f-c5c1-4774-cf23-21802c907324"
      },
      "execution_count": 44,
      "outputs": [
        {
          "output_type": "execute_result",
          "data": {
            "text/plain": [
              "array([[0.3699828 , 0.3606179 , 0.33614445, 0.49517135, 0.0368241 ,\n",
              "        0.25918877, 0.24029716, 0.51427729, 0.3853674 , 0.37990008],\n",
              "       [0.61235761, 0.59685778, 0.55635184, 0.81955686, 0.06094747,\n",
              "        0.42898268, 0.39771522, 0.85117905, 0.63782062, 0.62877168],\n",
              "       [0.00889061, 0.00866557, 0.00807748, 0.01189886, 0.00088488,\n",
              "        0.00622825, 0.00577429, 0.01235797, 0.00926029, 0.00912892],\n",
              "       [0.20638408, 0.20116014, 0.18750835, 0.27621685, 0.02054125,\n",
              "        0.14458087, 0.13404274, 0.28687454, 0.21496593, 0.21191615],\n",
              "       [0.19353067, 0.18863208, 0.1758305 , 0.25901433, 0.01926196,\n",
              "        0.13557651, 0.12569468, 0.26900826, 0.20157805, 0.19871821],\n",
              "       [0.36633437, 0.35706182, 0.3328297 , 0.49028843, 0.03646097,\n",
              "        0.25663288, 0.23792757, 0.50920596, 0.38156726, 0.37615386],\n",
              "       [0.15082053, 0.14700301, 0.1370266 , 0.20185265, 0.01501105,\n",
              "        0.10565623, 0.09795522, 0.20964103, 0.15709194, 0.15486324],\n",
              "       [0.04399032, 0.04287685, 0.039967  , 0.05887502, 0.00437832,\n",
              "        0.0308171 , 0.02857092, 0.06114669, 0.04581952, 0.04516947],\n",
              "       [0.45800879, 0.4464158 , 0.41611965, 0.61298209, 0.04558525,\n",
              "        0.32085473, 0.29746845, 0.63663369, 0.47705368, 0.47028558],\n",
              "       [0.32808623, 0.3197818 , 0.2980797 , 0.43909852, 0.03265416,\n",
              "        0.22983842, 0.21308609, 0.45604091, 0.34172869, 0.33688048]])"
            ]
          },
          "metadata": {},
          "execution_count": 44
        }
      ]
    },
    {
      "cell_type": "code",
      "source": [
        "# Considering a path described by two vectors (X,Y), how to sample it using equidistant samples\n",
        "\n",
        "phi = np.arange(0, 10*np.pi, 0.1)\n",
        "a = 1\n",
        "x = a*phi*np.cos(phi)\n",
        "y = a*phi*np.sin(phi)\n",
        "\n",
        "dr = (np.diff(x)**2 + np.diff(y)**2)**.5 # segment lengths\n",
        "r = np.zeros_like(x)\n",
        "r[1:] = np.cumsum(dr)                # integrate path\n",
        "r_int = np.linspace(0, r.max(), 200) # regular spaced path\n",
        "x_int = np.interp(r_int, r, x)       # integrate path\n",
        "y_int = np.interp(r_int, r, y)\n",
        "print(dr)"
      ],
      "metadata": {
        "colab": {
          "base_uri": "https://localhost:8080/"
        },
        "id": "cLfzl-3ipyYj",
        "outputId": "7fc06472-a8d2-4e16-f8ad-464655aa33f3"
      },
      "execution_count": 46,
      "outputs": [
        {
          "output_type": "stream",
          "name": "stdout",
          "text": [
            "[0.1        0.10099422 0.10295387 0.10582533 0.10953691 0.11400658\n",
            " 0.11914907 0.12488128 0.1311259  0.13781329 0.14488215 0.15227936\n",
            " 0.15995938 0.16788341 0.17601848 0.18433667 0.19281427 0.20143115\n",
            " 0.21017019 0.21901677 0.22795836 0.2369842  0.24608504 0.25525285\n",
            " 0.26448065 0.2737624  0.28309278 0.29246713 0.30188136 0.31133186\n",
            " 0.32081541 0.33032917 0.33987061 0.34943745 0.35902767 0.36863944\n",
            " 0.37827112 0.38792122 0.39758841 0.40727146 0.41696928 0.42668085\n",
            " 0.43640526 0.44614167 0.4558893  0.46564746 0.4754155  0.48519281\n",
            " 0.49497885 0.50477312 0.51457514 0.52438447 0.53420072 0.54402351\n",
            " 0.55385249 0.56368734 0.57352776 0.58337346 0.59322418 0.60307968\n",
            " 0.61293972 0.62280409 0.63267259 0.64254503 0.65242122 0.662301\n",
            " 0.67218422 0.68207071 0.69196035 0.701853   0.71174853 0.72164683\n",
            " 0.73154777 0.74145127 0.75135721 0.7612655  0.77117605 0.78108877\n",
            " 0.79100358 0.80092041 0.81083918 0.82075982 0.83068226 0.84060644\n",
            " 0.8505323  0.86045978 0.87038883 0.88031938 0.8902514  0.90018483\n",
            " 0.91011962 0.92005574 0.92999314 0.93993178 0.94987161 0.95981261\n",
            " 0.96975474 0.97969796 0.98964224 0.99958755 1.00953386 1.01948114\n",
            " 1.02942935 1.03937848 1.0493285  1.05927938 1.0692311  1.07918364\n",
            " 1.08913696 1.09909106 1.10904591 1.11900149 1.12895779 1.13891477\n",
            " 1.14887243 1.15883075 1.16878971 1.17874929 1.18870948 1.19867026\n",
            " 1.20863162 1.21859355 1.22855603 1.23851904 1.24848258 1.25844664\n",
            " 1.26841119 1.27837623 1.28834175 1.29830773 1.30827417 1.31824106\n",
            " 1.32820838 1.33817612 1.34814428 1.35811285 1.36808181 1.37805117\n",
            " 1.38802091 1.39799101 1.40796149 1.41793232 1.4279035  1.43787502\n",
            " 1.44784688 1.45781906 1.46779157 1.47776439 1.48773753 1.49771096\n",
            " 1.50768469 1.51765871 1.52763302 1.53760761 1.54758247 1.5575576\n",
            " 1.56753299 1.57750864 1.58748455 1.59746071 1.60743711 1.61741375\n",
            " 1.62739062 1.63736773 1.64734506 1.65732262 1.66730039 1.67727838\n",
            " 1.68725659 1.697235   1.70721361 1.71719242 1.72717143 1.73715064\n",
            " 1.74713003 1.75710961 1.76708938 1.77706932 1.78704944 1.79702974\n",
            " 1.80701021 1.81699085 1.82697165 1.83695262 1.84693375 1.85691504\n",
            " 1.86689648 1.87687808 1.88685982 1.89684172 1.90682376 1.91680594\n",
            " 1.92678827 1.93677073 1.94675334 1.95673607 1.96671894 1.97670195\n",
            " 1.98668508 1.99666833 2.00665172 2.01663522 2.02661885 2.0366026\n",
            " 2.04658647 2.05657045 2.06655454 2.07653875 2.08652307 2.09650751\n",
            " 2.10649204 2.11647669 2.12646144 2.13644629 2.14643125 2.15641631\n",
            " 2.16640146 2.17638672 2.18637207 2.19635752 2.20634306 2.21632869\n",
            " 2.22631442 2.23630023 2.24628613 2.25627213 2.26625821 2.27624437\n",
            " 2.28623062 2.29621695 2.30620337 2.31618986 2.32617644 2.3361631\n",
            " 2.34614983 2.35613664 2.36612353 2.37611049 2.38609753 2.39608464\n",
            " 2.40607182 2.41605907 2.4260464  2.43603379 2.44602126 2.45600879\n",
            " 2.46599639 2.47598405 2.48597178 2.49595958 2.50594744 2.51593536\n",
            " 2.52592335 2.5359114  2.54589951 2.55588768 2.56587591 2.57586419\n",
            " 2.58585254 2.59584094 2.6058294  2.61581792 2.62580649 2.63579512\n",
            " 2.64578381 2.65577254 2.66576133 2.67575017 2.68573907 2.69572801\n",
            " 2.70571701 2.71570606 2.72569515 2.7356843  2.74567349 2.75566273\n",
            " 2.76565202 2.77564136 2.78563075 2.79562018 2.80560965 2.81559917\n",
            " 2.82558874 2.83557835 2.845568   2.8555577  2.86554744 2.87553722\n",
            " 2.88552704 2.89551691 2.90550681 2.91549676 2.92548675 2.93547677\n",
            " 2.94546684 2.95545695 2.96544709 2.97543727 2.98542749 2.99541775\n",
            " 3.00540804 3.01539837 3.02538874 3.03537915 3.04536958 3.05536006\n",
            " 3.06535057 3.07534111 3.08533169 3.0953223  3.10531295 3.11530363\n",
            " 3.12529434 3.13528508]\n"
          ]
        }
      ]
    },
    {
      "cell_type": "code",
      "source": [
        "# Given an integer n and a 2D array X,\n",
        "# select from X the rows which can be interpreted as draws from a multinomial distribution with n degrees,\n",
        "# i.e., the rows which only contain integers and which sum to n\n",
        "\n",
        "X = np.asarray([[1.0, 0.0, 3.0, 8.0],\n",
        "                [2.0, 0.0, 1.0, 1.0],\n",
        "                [1.5, 2.5, 1.0, 0.0]])\n",
        "n = 4\n",
        "M = np.logical_and.reduce(np.mod(X, 1) == 0, axis=-1)\n",
        "M &= (X.sum(axis=-1) == n)\n",
        "print(X[M])"
      ],
      "metadata": {
        "colab": {
          "base_uri": "https://localhost:8080/"
        },
        "id": "FfRCHOTxpxxq",
        "outputId": "9b5e6136-f75c-4d11-acbc-93a22bf95d3a"
      },
      "execution_count": 47,
      "outputs": [
        {
          "output_type": "stream",
          "name": "stdout",
          "text": [
            "[[2. 0. 1. 1.]]\n"
          ]
        }
      ]
    },
    {
      "cell_type": "code",
      "source": [
        "# Compute bootstrapped 95% confidence intervals for the mean of a 1D array X\n",
        "# (i.e., resample the elements of an array with replacement N times, compute the mean of each sample, and then compute percentiles over the means)\n",
        "\n",
        "X = np.random.randn(100) # random 1D array\n",
        "N = 1000 # number of bootstrap samples\n",
        "idx = np.random.randint(0, X.size, (N, X.size))\n",
        "means = X[idx].mean(axis=1)\n",
        "confint = np.percentile(means, [2.5, 97.5])\n",
        "print(confint)"
      ],
      "metadata": {
        "colab": {
          "base_uri": "https://localhost:8080/"
        },
        "id": "xjvh2EvesZV6",
        "outputId": "d49fd0b3-e828-4738-8ef1-7f9518428558"
      },
      "execution_count": 48,
      "outputs": [
        {
          "output_type": "stream",
          "name": "stdout",
          "text": [
            "[-0.00454004  0.36162019]\n"
          ]
        }
      ]
    }
  ]
}