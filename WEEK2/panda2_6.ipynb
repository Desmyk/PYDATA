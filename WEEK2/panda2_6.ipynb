{
  "nbformat": 4,
  "nbformat_minor": 0,
  "metadata": {
    "colab": {
      "provenance": [],
      "authorship_tag": "ABX9TyOCGor8kMv+Uq4ORPRYs1Rq",
      "include_colab_link": true
    },
    "kernelspec": {
      "name": "python3",
      "display_name": "Python 3"
    },
    "language_info": {
      "name": "python"
    }
  },
  "cells": [
    {
      "cell_type": "markdown",
      "metadata": {
        "id": "view-in-github",
        "colab_type": "text"
      },
      "source": [
        "<a href=\"https://colab.research.google.com/github/Desmyk/PYDATA/blob/main/pandas2_6.ipynb\" target=\"_parent\"><img src=\"https://colab.research.google.com/assets/colab-badge.svg\" alt=\"Open In Colab\"/></a>"
      ]
    },
    {
      "cell_type": "code",
      "execution_count": 1,
      "metadata": {
        "id": "YnBktm2Ync9g"
      },
      "outputs": [],
      "source": [
        "import pandas as pd\n",
        "import numpy as np"
      ]
    },
    {
      "cell_type": "code",
      "source": [
        "\n",
        "raw_data = {'regiment': ['Nighthawks', 'Nighthawks', 'Nighthawks', 'Nighthawks', 'Dragoons', 'Dragoons', 'Dragoons', 'Dragoons', 'Scouts', 'Scouts', 'Scouts', 'Scouts'],\n",
        "        'company': ['1st', '1st', '2nd', '2nd', '1st', '1st', '2nd', '2nd','1st', '1st', '2nd', '2nd'],\n",
        "        'name': ['Miller', 'Jacobson', 'Ali', 'Milner', 'Cooze', 'Jacon', 'Ryaner', 'Sone', 'Sloan', 'Piger', 'Riani', 'Ali'],\n",
        "        'preTestScore': [4, 24, 31, 2, 3, 4, 24, 31, 2, 3, 2, 3],\n",
        "        'postTestScore': [25, 94, 57, 62, 70, 25, 94, 57, 62, 70, 62, 70]}"
      ],
      "metadata": {
        "id": "5vNr13Wqn3Vm"
      },
      "execution_count": 2,
      "outputs": []
    },
    {
      "cell_type": "code",
      "source": [
        "# Assign it to a variable called regiment.\n",
        "\n",
        "regiment = pd.DataFrame(raw_data)\n",
        "\n",
        "print(regiment)"
      ],
      "metadata": {
        "colab": {
          "base_uri": "https://localhost:8080/"
        },
        "id": "UISwxY9un3O-",
        "outputId": "9a87f916-743e-4c65-8ca9-5272a73a93cc"
      },
      "execution_count": 25,
      "outputs": [
        {
          "output_type": "stream",
          "name": "stdout",
          "text": [
            "      regiment company      name  preTestScore  postTestScore\n",
            "0   Nighthawks     1st    Miller             4             25\n",
            "1   Nighthawks     1st  Jacobson            24             94\n",
            "2   Nighthawks     2nd       Ali            31             57\n",
            "3   Nighthawks     2nd    Milner             2             62\n",
            "4     Dragoons     1st     Cooze             3             70\n",
            "5     Dragoons     1st     Jacon             4             25\n",
            "6     Dragoons     2nd    Ryaner            24             94\n",
            "7     Dragoons     2nd      Sone            31             57\n",
            "8       Scouts     1st     Sloan             2             62\n",
            "9       Scouts     1st     Piger             3             70\n",
            "10      Scouts     2nd     Riani             2             62\n",
            "11      Scouts     2nd       Ali             3             70\n"
          ]
        }
      ]
    },
    {
      "cell_type": "code",
      "source": [
        "# What is the mean preTestScore from the regiment Nighthawks?\n",
        "\n",
        "nighthawks = regiment[regiment['regiment'] == 'Nighthawks']\n",
        "\n",
        "regiment['regiment'] = pd.Categorical(regiment['regiment']).codes\n",
        "\n",
        "nighthawks = regiment[regiment['regiment'] == 0]\n",
        "\n",
        "mean = nighthawks['preTestScore'].mean()\n",
        "\n",
        "print(mean)"
      ],
      "metadata": {
        "colab": {
          "base_uri": "https://localhost:8080/"
        },
        "id": "xK71fliun3HS",
        "outputId": "91c74797-66ae-4a88-a4af-587ed8ba201e"
      },
      "execution_count": 11,
      "outputs": [
        {
          "output_type": "stream",
          "name": "stdout",
          "text": [
            "15.5\n"
          ]
        }
      ]
    },
    {
      "cell_type": "code",
      "source": [
        "# Present general statistics by company\n",
        "\n",
        "data = regiment.groupby('company')\n",
        "\n",
        "stats = data.describe()\n",
        "\n",
        "print(stats)"
      ],
      "metadata": {
        "colab": {
          "base_uri": "https://localhost:8080/"
        },
        "id": "gwx1Vb9wn2-U",
        "outputId": "ef47e9a3-5ff4-468f-cc66-a8fe67e7cf80"
      },
      "execution_count": 12,
      "outputs": [
        {
          "output_type": "stream",
          "name": "stdout",
          "text": [
            "        regiment                                           preTestScore  \\\n",
            "           count mean       std  min   25%  50%   75%  max        count   \n",
            "company                                                                   \n",
            "1st          6.0  1.0  0.894427  0.0  0.25  1.0  1.75  2.0          6.0   \n",
            "2nd          6.0  1.0  0.894427  0.0  0.25  1.0  1.75  2.0          6.0   \n",
            "\n",
            "                    ...              postTestScore                        \\\n",
            "              mean  ...    75%   max         count       mean        std   \n",
            "company             ...                                                    \n",
            "1st       6.666667  ...   4.00  24.0           6.0  57.666667  27.485754   \n",
            "2nd      15.500000  ...  29.25  31.0           6.0  67.000000  14.057027   \n",
            "\n",
            "                                        \n",
            "          min    25%   50%   75%   max  \n",
            "company                                 \n",
            "1st      25.0  34.25  66.0  70.0  94.0  \n",
            "2nd      57.0  58.25  62.0  68.0  94.0  \n",
            "\n",
            "[2 rows x 24 columns]\n"
          ]
        }
      ]
    },
    {
      "cell_type": "code",
      "source": [
        "# What is the mean of each company's preTestScore?\n",
        "\n",
        "data = regiment.groupby('company')\n",
        "\n",
        "mean = data['preTestScore'].mean()\n",
        "\n",
        "print(mean)"
      ],
      "metadata": {
        "colab": {
          "base_uri": "https://localhost:8080/"
        },
        "id": "WGhokjxhn20j",
        "outputId": "3b12c6dc-b86b-485d-e611-221ef79daecd"
      },
      "execution_count": 13,
      "outputs": [
        {
          "output_type": "stream",
          "name": "stdout",
          "text": [
            "company\n",
            "1st     6.666667\n",
            "2nd    15.500000\n",
            "Name: preTestScore, dtype: float64\n"
          ]
        }
      ]
    },
    {
      "cell_type": "code",
      "source": [
        "# Present the mean preTestScores grouped by regiment and company\n",
        "\n",
        "data = regiment.groupby(['regiment', 'company'])\n",
        "\n",
        "mean = data['preTestScore'].mean()\n",
        "\n",
        "print(mean)"
      ],
      "metadata": {
        "colab": {
          "base_uri": "https://localhost:8080/"
        },
        "id": "MKWLhtqcn2it",
        "outputId": "1f945ce5-f4bc-4ccc-b79a-a610e615d646"
      },
      "execution_count": 14,
      "outputs": [
        {
          "output_type": "stream",
          "name": "stdout",
          "text": [
            "regiment  company\n",
            "0         1st         3.5\n",
            "          2nd        27.5\n",
            "1         1st        14.0\n",
            "          2nd        16.5\n",
            "2         1st         2.5\n",
            "          2nd         2.5\n",
            "Name: preTestScore, dtype: float64\n"
          ]
        }
      ]
    },
    {
      "cell_type": "code",
      "source": [
        "# Present the mean preTestScores grouped by regiment and company without heirarchical indexing\n",
        "\n",
        "data = regiment.groupby(['regiment', 'company'])\n",
        "\n",
        "mean = data['preTestScore'].mean().reset_index()\n",
        "\n",
        "print(mean)"
      ],
      "metadata": {
        "colab": {
          "base_uri": "https://localhost:8080/"
        },
        "id": "tQ8oUhEBAetZ",
        "outputId": "096e5c83-4b33-4efa-8d51-faf2eb2a2456"
      },
      "execution_count": 16,
      "outputs": [
        {
          "output_type": "stream",
          "name": "stdout",
          "text": [
            "   regiment company  preTestScore\n",
            "0         0     1st           3.5\n",
            "1         0     2nd          27.5\n",
            "2         1     1st          14.0\n",
            "3         1     2nd          16.5\n",
            "4         2     1st           2.5\n",
            "5         2     2nd           2.5\n"
          ]
        }
      ]
    },
    {
      "cell_type": "code",
      "source": [
        "# Group the entire dataframe by regiment and company\n",
        "\n",
        "data = regiment.groupby(['regiment', 'company'])\n",
        "\n",
        "print(data)"
      ],
      "metadata": {
        "colab": {
          "base_uri": "https://localhost:8080/"
        },
        "id": "WkZ7S_M-Aeis",
        "outputId": "05a3fc93-e4ae-4414-b2f1-b52eadfe58bb"
      },
      "execution_count": 17,
      "outputs": [
        {
          "output_type": "stream",
          "name": "stdout",
          "text": [
            "<pandas.core.groupby.generic.DataFrameGroupBy object at 0x7a85cdab6320>\n"
          ]
        }
      ]
    },
    {
      "cell_type": "code",
      "source": [
        "# What is the number of observations in each regiment and company\n",
        "\n",
        "data = regiment.groupby(['regiment', 'company'])\n",
        "\n",
        "obs_count = data.size()\n",
        "\n",
        "print(obs_count)"
      ],
      "metadata": {
        "colab": {
          "base_uri": "https://localhost:8080/"
        },
        "id": "-pkObY7PAeWU",
        "outputId": "6302aaaf-306a-4c20-968d-64ee115f185d"
      },
      "execution_count": 18,
      "outputs": [
        {
          "output_type": "stream",
          "name": "stdout",
          "text": [
            "regiment  company\n",
            "0         1st        2\n",
            "          2nd        2\n",
            "1         1st        2\n",
            "          2nd        2\n",
            "2         1st        2\n",
            "          2nd        2\n",
            "dtype: int64\n"
          ]
        }
      ]
    },
    {
      "cell_type": "code",
      "source": [
        "# Iterate over a group and print the name and the whole data from the regiment\n",
        "\n",
        "data = regiment.groupby('regiment')\n",
        "\n",
        "# Iterate over the groups\n",
        "for regiment_name, regiment_data in data:\n",
        "    print(f\"Regiment name: {regiment_name}\")\n",
        "    print(f\"Regiment data: {regiment_data}\")"
      ],
      "metadata": {
        "colab": {
          "base_uri": "https://localhost:8080/"
        },
        "id": "AmlaIHImD0GH",
        "outputId": "9322a060-e696-483c-80ce-35287608d92b"
      },
      "execution_count": 28,
      "outputs": [
        {
          "output_type": "stream",
          "name": "stdout",
          "text": [
            "Regiment name: Dragoons\n",
            "Regiment data:    regiment company    name  preTestScore  postTestScore\n",
            "4  Dragoons     1st   Cooze             3             70\n",
            "5  Dragoons     1st   Jacon             4             25\n",
            "6  Dragoons     2nd  Ryaner            24             94\n",
            "7  Dragoons     2nd    Sone            31             57\n",
            "Regiment name: Nighthawks\n",
            "Regiment data:      regiment company      name  preTestScore  postTestScore\n",
            "0  Nighthawks     1st    Miller             4             25\n",
            "1  Nighthawks     1st  Jacobson            24             94\n",
            "2  Nighthawks     2nd       Ali            31             57\n",
            "3  Nighthawks     2nd    Milner             2             62\n",
            "Regiment name: Scouts\n",
            "Regiment data:    regiment company   name  preTestScore  postTestScore\n",
            "8    Scouts     1st  Sloan             2             62\n",
            "9    Scouts     1st  Piger             3             70\n",
            "10   Scouts     2nd  Riani             2             62\n",
            "11   Scouts     2nd    Ali             3             70\n"
          ]
        }
      ]
    }
  ]
}
