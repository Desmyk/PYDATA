{
  "nbformat": 4,
  "nbformat_minor": 0,
  "metadata": {
    "colab": {
      "provenance": [],
      "authorship_tag": "ABX9TyPf8nZYlDQq+YW6b/rrbb8M",
      "include_colab_link": true
    },
    "kernelspec": {
      "name": "python3",
      "display_name": "Python 3"
    },
    "language_info": {
      "name": "python"
    }
  },
  "cells": [
    {
      "cell_type": "markdown",
      "metadata": {
        "id": "view-in-github",
        "colab_type": "text"
      },
      "source": [
        "<a href=\"https://colab.research.google.com/github/Desmyk/PYDATA/blob/main/Pandas2_5.ipynb\" target=\"_parent\"><img src=\"https://colab.research.google.com/assets/colab-badge.svg\" alt=\"Open In Colab\"/></a>"
      ]
    },
    {
      "cell_type": "code",
      "execution_count": 1,
      "metadata": {
        "id": "UNpf9j7SiCyF"
      },
      "outputs": [],
      "source": [
        "import pandas as pd"
      ]
    },
    {
      "cell_type": "code",
      "source": [
        "# Import the dataset from this address.\n",
        "# Assign it to a variable called users.\n",
        "\n",
        "url = \"https://raw.githubusercontent.com/justmarkham/DAT8/master/data/u.user\"\n",
        "\n",
        "users = pd.read_csv(url, sep=\"|\", index_col=\"user_id\")\n",
        "\n",
        "print(users.head())"
      ],
      "metadata": {
        "colab": {
          "base_uri": "https://localhost:8080/"
        },
        "id": "tcbFujoFiHsE",
        "outputId": "cb276fef-c9fd-41d7-956a-9ffc4a29a7d5"
      },
      "execution_count": 4,
      "outputs": [
        {
          "output_type": "stream",
          "name": "stdout",
          "text": [
            "         age gender  occupation zip_code\n",
            "user_id                                 \n",
            "1         24      M  technician    85711\n",
            "2         53      F       other    94043\n",
            "3         23      M      writer    32067\n",
            "4         24      M  technician    43537\n",
            "5         33      F       other    15213\n"
          ]
        }
      ]
    },
    {
      "cell_type": "code",
      "source": [
        "# Discover what is the mean age per occupation\n",
        "\n",
        "mean =  users.groupby(\"occupation\")[\"age\"].mean()\n",
        "\n",
        "print(mean)"
      ],
      "metadata": {
        "colab": {
          "base_uri": "https://localhost:8080/"
        },
        "id": "krZb6XaMiIEB",
        "outputId": "9acf74db-18b8-4d06-bdc8-74834108f391"
      },
      "execution_count": 5,
      "outputs": [
        {
          "output_type": "stream",
          "name": "stdout",
          "text": [
            "occupation\n",
            "administrator    38.746835\n",
            "artist           31.392857\n",
            "doctor           43.571429\n",
            "educator         42.010526\n",
            "engineer         36.388060\n",
            "entertainment    29.222222\n",
            "executive        38.718750\n",
            "healthcare       41.562500\n",
            "homemaker        32.571429\n",
            "lawyer           36.750000\n",
            "librarian        40.000000\n",
            "marketing        37.615385\n",
            "none             26.555556\n",
            "other            34.523810\n",
            "programmer       33.121212\n",
            "retired          63.071429\n",
            "salesman         35.666667\n",
            "scientist        35.548387\n",
            "student          22.081633\n",
            "technician       33.148148\n",
            "writer           36.311111\n",
            "Name: age, dtype: float64\n"
          ]
        }
      ]
    },
    {
      "cell_type": "code",
      "source": [
        "# Discover the Male ratio per occupation and sort it from the most to the least\n",
        "\n",
        "Male = (\n",
        "    users[users[\"gender\"] == \"M\"]\n",
        "    .groupby(\"occupation\")\n",
        "    .size()\n",
        "    .divide(users.groupby(\"occupation\").size())\n",
        ")\n",
        "\n",
        "print(Male)"
      ],
      "metadata": {
        "colab": {
          "base_uri": "https://localhost:8080/"
        },
        "id": "-3IhPktciIfS",
        "outputId": "3b829f4c-cdd8-4c7b-b1cc-4f5d32fcd185"
      },
      "execution_count": 7,
      "outputs": [
        {
          "output_type": "stream",
          "name": "stdout",
          "text": [
            "occupation\n",
            "administrator    0.544304\n",
            "artist           0.535714\n",
            "doctor           1.000000\n",
            "educator         0.726316\n",
            "engineer         0.970149\n",
            "entertainment    0.888889\n",
            "executive        0.906250\n",
            "healthcare       0.312500\n",
            "homemaker        0.142857\n",
            "lawyer           0.833333\n",
            "librarian        0.431373\n",
            "marketing        0.615385\n",
            "none             0.555556\n",
            "other            0.657143\n",
            "programmer       0.909091\n",
            "retired          0.928571\n",
            "salesman         0.750000\n",
            "scientist        0.903226\n",
            "student          0.693878\n",
            "technician       0.962963\n",
            "writer           0.577778\n",
            "dtype: float64\n"
          ]
        }
      ]
    },
    {
      "cell_type": "code",
      "source": [
        "# For each occupation, calculate the minimum and maximum ages\n",
        "\n",
        "age_range = users.groupby(\"occupation\")[\"age\"].agg([\"min\", \"max\"])\n",
        "\n",
        "print(age_range)"
      ],
      "metadata": {
        "colab": {
          "base_uri": "https://localhost:8080/"
        },
        "id": "h60kBW2wiI5k",
        "outputId": "62358f62-3a00-4d9b-d56e-8d4da1aeff20"
      },
      "execution_count": 8,
      "outputs": [
        {
          "output_type": "stream",
          "name": "stdout",
          "text": [
            "               min  max\n",
            "occupation             \n",
            "administrator   21   70\n",
            "artist          19   48\n",
            "doctor          28   64\n",
            "educator        23   63\n",
            "engineer        22   70\n",
            "entertainment   15   50\n",
            "executive       22   69\n",
            "healthcare      22   62\n",
            "homemaker       20   50\n",
            "lawyer          21   53\n",
            "librarian       23   69\n",
            "marketing       24   55\n",
            "none            11   55\n",
            "other           13   64\n",
            "programmer      20   63\n",
            "retired         51   73\n",
            "salesman        18   66\n",
            "scientist       23   55\n",
            "student          7   42\n",
            "technician      21   55\n",
            "writer          18   60\n"
          ]
        }
      ]
    },
    {
      "cell_type": "code",
      "source": [
        "# For each combination of occupation and gender, calculate the mean age\n",
        "\n",
        "mean_gender_occupation = users.groupby([\"occupation\", \"gender\"])[\"age\"].mean()\n",
        "\n",
        "print(mean_gender_occupation)"
      ],
      "metadata": {
        "colab": {
          "base_uri": "https://localhost:8080/"
        },
        "id": "Iv_r76vmiJP_",
        "outputId": "379501a3-2742-4338-8d49-ffe7dbd127ce"
      },
      "execution_count": 9,
      "outputs": [
        {
          "output_type": "stream",
          "name": "stdout",
          "text": [
            "occupation     gender\n",
            "administrator  F         40.638889\n",
            "               M         37.162791\n",
            "artist         F         30.307692\n",
            "               M         32.333333\n",
            "doctor         M         43.571429\n",
            "educator       F         39.115385\n",
            "               M         43.101449\n",
            "engineer       F         29.500000\n",
            "               M         36.600000\n",
            "entertainment  F         31.000000\n",
            "               M         29.000000\n",
            "executive      F         44.000000\n",
            "               M         38.172414\n",
            "healthcare     F         39.818182\n",
            "               M         45.400000\n",
            "homemaker      F         34.166667\n",
            "               M         23.000000\n",
            "lawyer         F         39.500000\n",
            "               M         36.200000\n",
            "librarian      F         40.000000\n",
            "               M         40.000000\n",
            "marketing      F         37.200000\n",
            "               M         37.875000\n",
            "none           F         36.500000\n",
            "               M         18.600000\n",
            "other          F         35.472222\n",
            "               M         34.028986\n",
            "programmer     F         32.166667\n",
            "               M         33.216667\n",
            "retired        F         70.000000\n",
            "               M         62.538462\n",
            "salesman       F         27.000000\n",
            "               M         38.555556\n",
            "scientist      F         28.333333\n",
            "               M         36.321429\n",
            "student        F         20.750000\n",
            "               M         22.669118\n",
            "technician     F         38.000000\n",
            "               M         32.961538\n",
            "writer         F         37.631579\n",
            "               M         35.346154\n",
            "Name: age, dtype: float64\n"
          ]
        }
      ]
    },
    {
      "cell_type": "code",
      "source": [
        "# For each occupation present the percentage of women and men\n",
        "\n",
        "gender_occupation = (\n",
        "    users.groupby(\"occupation\")[\"gender\"]\n",
        "    .value_counts(normalize=True)\n",
        "    .unstack()\n",
        "    .multiply(100)\n",
        "    .round(1)\n",
        "    .rename_axis([\"occupation\"])\n",
        ")\n",
        "\n",
        "# Print the results\n",
        "print(gender_occupation)"
      ],
      "metadata": {
        "colab": {
          "base_uri": "https://localhost:8080/"
        },
        "id": "HpwDeFsbiJq7",
        "outputId": "657063d0-f705-4bc9-b359-b81e94a99a4a"
      },
      "execution_count": 11,
      "outputs": [
        {
          "output_type": "stream",
          "name": "stdout",
          "text": [
            "gender            F      M\n",
            "occupation                \n",
            "administrator  45.6   54.4\n",
            "artist         46.4   53.6\n",
            "doctor          NaN  100.0\n",
            "educator       27.4   72.6\n",
            "engineer        3.0   97.0\n",
            "entertainment  11.1   88.9\n",
            "executive       9.4   90.6\n",
            "healthcare     68.8   31.2\n",
            "homemaker      85.7   14.3\n",
            "lawyer         16.7   83.3\n",
            "librarian      56.9   43.1\n",
            "marketing      38.5   61.5\n",
            "none           44.4   55.6\n",
            "other          34.3   65.7\n",
            "programmer      9.1   90.9\n",
            "retired         7.1   92.9\n",
            "salesman       25.0   75.0\n",
            "scientist       9.7   90.3\n",
            "student        30.6   69.4\n",
            "technician      3.7   96.3\n",
            "writer         42.2   57.8\n"
          ]
        }
      ]
    }
  ]
}
