{
  "nbformat": 4,
  "nbformat_minor": 0,
  "metadata": {
    "colab": {
      "provenance": [],
      "authorship_tag": "ABX9TyPTB/arVZg3eunnV/g2MUT4",
      "include_colab_link": true
    },
    "kernelspec": {
      "name": "python3",
      "display_name": "Python 3"
    },
    "language_info": {
      "name": "python"
    }
  },
  "cells": [
    {
      "cell_type": "markdown",
      "metadata": {
        "id": "view-in-github",
        "colab_type": "text"
      },
      "source": [
        "<a href=\"https://colab.research.google.com/github/Desmyk/PYDATA/blob/main/panda2.ipynb\" target=\"_parent\"><img src=\"https://colab.research.google.com/assets/colab-badge.svg\" alt=\"Open In Colab\"/></a>"
      ]
    },
    {
      "cell_type": "code",
      "execution_count": 1,
      "metadata": {
        "id": "_I465w8LdKpg"
      },
      "outputs": [],
      "source": [
        "import pandas as pd"
      ]
    },
    {
      "cell_type": "code",
      "source": [
        "# import dataset from address\n",
        "# Assign it to a variable named chipo\n",
        "\n",
        "chipo = pd.read_csv('https://raw.githubusercontent.com/justmarkham/DAT8/master/data/chipotle.tsv', sep='\\t')"
      ],
      "metadata": {
        "id": "VBzxyS2Odg51"
      },
      "execution_count": 10,
      "outputs": []
    },
    {
      "cell_type": "code",
      "source": [
        "# How many products cost more than $10.00\n",
        "\n",
        "prod = chipo[chipo['item_price'] > 10.00]\n",
        "print(prod.shape[0])"
      ],
      "metadata": {
        "colab": {
          "base_uri": "https://localhost:8080/"
        },
        "id": "QiC7dLdjdhcD",
        "outputId": "2001f121-956f-4003-a351-93f92e0658b6"
      },
      "execution_count": 18,
      "outputs": [
        {
          "output_type": "stream",
          "name": "stdout",
          "text": [
            "1130\n"
          ]
        }
      ]
    },
    {
      "cell_type": "code",
      "source": [
        "# What is the price of each item (item name, item price)\n",
        "\n",
        "X = chipo['item_name'].str.strip() + ' ' + chipo['item_price'].astype(str)\n",
        "print(X)"
      ],
      "metadata": {
        "colab": {
          "base_uri": "https://localhost:8080/"
        },
        "id": "NNT0rf_XdiAp",
        "outputId": "8bdb35c6-194a-4d9a-d543-564c45be9eb9"
      },
      "execution_count": 22,
      "outputs": [
        {
          "output_type": "stream",
          "name": "stdout",
          "text": [
            "0                Chips and Fresh Tomato Salsa 2.39\n",
            "1                                        Izze 3.39\n",
            "2                            Nantucket Nectar 3.39\n",
            "3       Chips and Tomatillo-Green Chili Salsa 2.39\n",
            "4                               Chicken Bowl 16.98\n",
            "                           ...                    \n",
            "4617                           Steak Burrito 11.75\n",
            "4618                           Steak Burrito 11.75\n",
            "4619                      Chicken Salad Bowl 11.25\n",
            "4620                       Chicken Salad Bowl 8.75\n",
            "4621                       Chicken Salad Bowl 8.75\n",
            "Length: 4622, dtype: object\n"
          ]
        }
      ]
    },
    {
      "cell_type": "code",
      "source": [
        "# Sort by the name of the item\n",
        "\n",
        "Z = chipo.sort_values(by='item_name')\n",
        "print(Z)"
      ],
      "metadata": {
        "colab": {
          "base_uri": "https://localhost:8080/"
        },
        "id": "WDp2EGbvdi1E",
        "outputId": "26329f6d-8356-4f74-baec-8e856586ba2f"
      },
      "execution_count": 23,
      "outputs": [
        {
          "output_type": "stream",
          "name": "stdout",
          "text": [
            "      order_id  quantity          item_name  \\\n",
            "3389      1360         2  6 Pack Soft Drink   \n",
            "341        148         1  6 Pack Soft Drink   \n",
            "1849       749         1  6 Pack Soft Drink   \n",
            "1860       754         1  6 Pack Soft Drink   \n",
            "2713      1076         1  6 Pack Soft Drink   \n",
            "...        ...       ...                ...   \n",
            "2384       948         1  Veggie Soft Tacos   \n",
            "781        322         1  Veggie Soft Tacos   \n",
            "2851      1132         1  Veggie Soft Tacos   \n",
            "1699       688         1  Veggie Soft Tacos   \n",
            "1395       567         1  Veggie Soft Tacos   \n",
            "\n",
            "                                     choice_description  item_price  \n",
            "3389                                        [Diet Coke]       12.98  \n",
            "341                                         [Diet Coke]        6.49  \n",
            "1849                                             [Coke]        6.49  \n",
            "1860                                        [Diet Coke]        6.49  \n",
            "2713                                             [Coke]        6.49  \n",
            "...                                                 ...         ...  \n",
            "2384  [Roasted Chili Corn Salsa, [Fajita Vegetables,...        8.75  \n",
            "781   [Fresh Tomato Salsa, [Black Beans, Cheese, Sou...        8.75  \n",
            "2851  [Roasted Chili Corn Salsa (Medium), [Black Bea...        8.49  \n",
            "1699  [Fresh Tomato Salsa, [Fajita Vegetables, Rice,...       11.25  \n",
            "1395  [Fresh Tomato Salsa (Mild), [Pinto Beans, Rice...        8.49  \n",
            "\n",
            "[4622 rows x 5 columns]\n"
          ]
        }
      ]
    },
    {
      "cell_type": "code",
      "source": [
        "# What was the quantity of the most expensive item ordered\n",
        "\n",
        "quantity = chipo.groupby('item_name')['quantity'].sum().sort_values(ascending=False).iloc[0]\n",
        "\n",
        "print(f\"Quantity of the most expensive item ordered: {quantity}\")"
      ],
      "metadata": {
        "colab": {
          "base_uri": "https://localhost:8080/"
        },
        "id": "X2-igUEqdjYN",
        "outputId": "7a57dde6-200d-4986-aa9b-93d13c069648"
      },
      "execution_count": 35,
      "outputs": [
        {
          "output_type": "stream",
          "name": "stdout",
          "text": [
            "Quantity of the most expensive item ordered: 761\n"
          ]
        }
      ]
    },
    {
      "cell_type": "code",
      "source": [
        "# How many times was a Veggie Salad Bowl ordered\n",
        "\n",
        "orders = chipo[chipo['item_name'] == 'Veggie Salad Bowl'].shape[0]\n",
        "\n",
        "\n",
        "print(f'Veggie salad Bowl was ordered: {orders} times')"
      ],
      "metadata": {
        "colab": {
          "base_uri": "https://localhost:8080/"
        },
        "id": "06T-yYyFi1wb",
        "outputId": "efdf548f-7396-4a0c-bf9a-d01e4a563a10"
      },
      "execution_count": 32,
      "outputs": [
        {
          "output_type": "stream",
          "name": "stdout",
          "text": [
            "Veggie salad Bowl was ordered: 18 times\n"
          ]
        }
      ]
    },
    {
      "cell_type": "code",
      "source": [
        "# How many times did someone order more than one Canned Soda\n",
        "\n",
        "orders = chipo[\n",
        "      (chipo['item_name'] == 'Canned Soda') & (chipo['quantity'] > 1)\n",
        "]\n",
        "orders = orders.shape[0]\n",
        "\n",
        "print(f'orders with more than one canned soda is; {orders}')\n"
      ],
      "metadata": {
        "colab": {
          "base_uri": "https://localhost:8080/"
        },
        "id": "BtOnF1J2i6Ph",
        "outputId": "3b155eec-6439-47d8-8477-3e5e8581e5cd"
      },
      "execution_count": 31,
      "outputs": [
        {
          "output_type": "stream",
          "name": "stdout",
          "text": [
            "orders with more than one canned soda is; 20\n"
          ]
        }
      ]
    }
  ]
}
