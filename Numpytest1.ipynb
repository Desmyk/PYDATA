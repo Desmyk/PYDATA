{
  "nbformat": 4,
  "nbformat_minor": 0,
  "metadata": {
    "colab": {
      "provenance": [],
      "authorship_tag": "ABX9TyMwNH9P8N4OstxybHdzdyrk",
      "include_colab_link": true
    },
    "kernelspec": {
      "name": "python3",
      "display_name": "Python 3"
    },
    "language_info": {
      "name": "python"
    }
  },
  "cells": [
    {
      "cell_type": "markdown",
      "metadata": {
        "id": "view-in-github",
        "colab_type": "text"
      },
      "source": [
        "<a href=\"https://colab.research.google.com/github/Desmyk/PYDATA/blob/main/Numpytest1.ipynb\" target=\"_parent\"><img src=\"https://colab.research.google.com/assets/colab-badge.svg\" alt=\"Open In Colab\"/></a>"
      ]
    },
    {
      "cell_type": "code",
      "execution_count": 1,
      "metadata": {
        "id": "uKtdBrdDV_gZ"
      },
      "outputs": [],
      "source": [
        "#import numpy package under name np\n",
        "import numpy as np"
      ]
    },
    {
      "cell_type": "code",
      "source": [
        "# print numpy version and config\n",
        "print(np.show_config)\n",
        "print(np.version)"
      ],
      "metadata": {
        "colab": {
          "base_uri": "https://localhost:8080/"
        },
        "id": "kjvQ6_uzWU8z",
        "outputId": "d7a97a5b-9d6c-4b5c-c86d-8250e07ddf6a"
      },
      "execution_count": 8,
      "outputs": [
        {
          "output_type": "stream",
          "name": "stdout",
          "text": [
            "<function show at 0x78a024f60820>\n",
            "<module 'numpy.version' from '/usr/local/lib/python3.10/dist-packages/numpy/version.py'>\n"
          ]
        }
      ]
    },
    {
      "cell_type": "code",
      "source": [
        "# create a null vector of size 10\n"
      ],
      "metadata": {
        "id": "_WbtKjUUX1Up"
      },
      "execution_count": null,
      "outputs": []
    },
    {
      "cell_type": "code",
      "source": [
        "# find memory size of any array\n"
      ],
      "metadata": {
        "id": "6AhOoImCX7lW"
      },
      "execution_count": null,
      "outputs": []
    },
    {
      "cell_type": "code",
      "source": [
        "# get the documentation of the numpy add function from the command line\n",
        "\n"
      ],
      "metadata": {
        "id": "Pngt2R7yYCiu"
      },
      "execution_count": null,
      "outputs": []
    },
    {
      "cell_type": "code",
      "source": [
        "# Create a null vector of size 10 but the fifth value which is 1\n",
        "\n",
        "\n"
      ],
      "metadata": {
        "id": "wUaJoaKUYJLi"
      },
      "execution_count": null,
      "outputs": []
    },
    {
      "cell_type": "code",
      "source": [
        "# vector with values ranging from 10 to 49\n",
        "\n"
      ],
      "metadata": {
        "id": "9iPkcBiJYQE1"
      },
      "execution_count": null,
      "outputs": []
    },
    {
      "cell_type": "code",
      "source": [
        "# reverse a vector (1st element to last)\n",
        "\n",
        "\n"
      ],
      "metadata": {
        "id": "OhEXEnr_YXVK"
      },
      "execution_count": null,
      "outputs": []
    },
    {
      "cell_type": "code",
      "source": [
        "# create a 3 x 3 matrix with values ranging from 0 to 8\n",
        "\n",
        "\n"
      ],
      "metadata": {
        "id": "oNtjrFPKYhVg"
      },
      "execution_count": null,
      "outputs": []
    },
    {
      "cell_type": "code",
      "source": [
        "# find indices of non-zero elements from [1,2,0,0,4,0]\n",
        "\n",
        "\n",
        "\n"
      ],
      "metadata": {
        "id": "xoaCunfcYsHM"
      },
      "execution_count": null,
      "outputs": []
    },
    {
      "cell_type": "code",
      "source": [
        "# create a 3 x 3 identity matrix\n",
        "\n",
        "\n"
      ],
      "metadata": {
        "id": "G0CyXo8yY3lr"
      },
      "execution_count": null,
      "outputs": []
    },
    {
      "cell_type": "code",
      "source": [
        "# a 3 x 3 x 3 array with random values\n",
        "\n",
        "\n"
      ],
      "metadata": {
        "id": "8mJcHEHOY-sH"
      },
      "execution_count": null,
      "outputs": []
    },
    {
      "cell_type": "code",
      "source": [
        "# a 10 x 10 array with random values, find min and max values\n",
        "\n",
        "\n"
      ],
      "metadata": {
        "id": "8ysLoHz4ZRMn"
      },
      "execution_count": null,
      "outputs": []
    },
    {
      "cell_type": "code",
      "source": [
        "# a random vector size of 30, find mean\n",
        "\n",
        "\n"
      ],
      "metadata": {
        "id": "tOXPtvCBZeZY"
      },
      "execution_count": null,
      "outputs": []
    },
    {
      "cell_type": "code",
      "source": [
        "# a 2D array with 1 on the border and 0 inside\n",
        "\n",
        "\n"
      ],
      "metadata": {
        "id": "bJqeRMAdZmpf"
      },
      "execution_count": null,
      "outputs": []
    }
  ]
}