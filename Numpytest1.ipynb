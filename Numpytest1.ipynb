{
  "nbformat": 4,
  "nbformat_minor": 0,
  "metadata": {
    "colab": {
      "provenance": [],
      "authorship_tag": "ABX9TyMIe8LZuVDMbXrx4Q57qrmx",
      "include_colab_link": true
    },
    "kernelspec": {
      "name": "python3",
      "display_name": "Python 3"
    },
    "language_info": {
      "name": "python"
    }
  },
  "cells": [
    {
      "cell_type": "markdown",
      "metadata": {
        "id": "view-in-github",
        "colab_type": "text"
      },
      "source": [
        "<a href=\"https://colab.research.google.com/github/Desmyk/PYDATA/blob/main/Numpytest1.ipynb\" target=\"_parent\"><img src=\"https://colab.research.google.com/assets/colab-badge.svg\" alt=\"Open In Colab\"/></a>"
      ]
    },
    {
      "cell_type": "code",
      "execution_count": 1,
      "metadata": {
        "id": "uKtdBrdDV_gZ"
      },
      "outputs": [],
      "source": [
        "#import numpy package under name np\n",
        "\n",
        "import numpy as np"
      ]
    },
    {
      "cell_type": "code",
      "source": [
        "# print numpy version and config\n",
        "\n",
        "print(np.show_config)\n",
        "print(np.__version__)"
      ],
      "metadata": {
        "colab": {
          "base_uri": "https://localhost:8080/"
        },
        "id": "kjvQ6_uzWU8z",
        "outputId": "aea34ad3-5a65-4b58-c35b-c60fb51fd782"
      },
      "execution_count": 5,
      "outputs": [
        {
          "output_type": "stream",
          "name": "stdout",
          "text": [
            "<function show at 0x793616edc820>\n",
            "1.25.2\n"
          ]
        }
      ]
    },
    {
      "cell_type": "code",
      "source": [
        "# create a null vector of size 10\n",
        "\n",
        "X = np.zeros(10)\n",
        "print(X)\n"
      ],
      "metadata": {
        "id": "_WbtKjUUX1Up",
        "colab": {
          "base_uri": "https://localhost:8080/"
        },
        "outputId": "614b3f7c-f41f-4e79-ef18-5e1f7da95af8"
      },
      "execution_count": 7,
      "outputs": [
        {
          "output_type": "stream",
          "name": "stdout",
          "text": [
            "[0. 0. 0. 0. 0. 0. 0. 0. 0. 0.]\n"
          ]
        }
      ]
    },
    {
      "cell_type": "code",
      "source": [
        "# find memory size of any array\n",
        "\n",
        "x = np.array([20,30,20])\n",
        "print(x.size) # size of array\n",
        "print(x.itemsize) # size of element in bytes"
      ],
      "metadata": {
        "id": "6AhOoImCX7lW",
        "colab": {
          "base_uri": "https://localhost:8080/"
        },
        "outputId": "981b8d52-2b4c-43db-fa86-ba70834a8d78"
      },
      "execution_count": 12,
      "outputs": [
        {
          "output_type": "stream",
          "name": "stdout",
          "text": [
            "3\n",
            "8\n"
          ]
        }
      ]
    },
    {
      "cell_type": "code",
      "source": [
        "# get the documentation of the numpy add function from the command line\n",
        "\n",
        "np.info(np.add)"
      ],
      "metadata": {
        "id": "Pngt2R7yYCiu",
        "colab": {
          "base_uri": "https://localhost:8080/"
        },
        "outputId": "ab82a347-8194-42eb-d0a2-77e94ce271bd"
      },
      "execution_count": 51,
      "outputs": [
        {
          "output_type": "stream",
          "name": "stdout",
          "text": [
            "add(x1, x2, /, out=None, *, where=True, casting='same_kind', order='K', dtype=None, subok=True[, signature, extobj])\n",
            "\n",
            "Add arguments element-wise.\n",
            "\n",
            "Parameters\n",
            "----------\n",
            "x1, x2 : array_like\n",
            "    The arrays to be added.\n",
            "    If ``x1.shape != x2.shape``, they must be broadcastable to a common\n",
            "    shape (which becomes the shape of the output).\n",
            "out : ndarray, None, or tuple of ndarray and None, optional\n",
            "    A location into which the result is stored. If provided, it must have\n",
            "    a shape that the inputs broadcast to. If not provided or None,\n",
            "    a freshly-allocated array is returned. A tuple (possible only as a\n",
            "    keyword argument) must have length equal to the number of outputs.\n",
            "where : array_like, optional\n",
            "    This condition is broadcast over the input. At locations where the\n",
            "    condition is True, the `out` array will be set to the ufunc result.\n",
            "    Elsewhere, the `out` array will retain its original value.\n",
            "    Note that if an uninitialized `out` array is created via the default\n",
            "    ``out=None``, locations within it where the condition is False will\n",
            "    remain uninitialized.\n",
            "**kwargs\n",
            "    For other keyword-only arguments, see the\n",
            "    :ref:`ufunc docs <ufuncs.kwargs>`.\n",
            "\n",
            "Returns\n",
            "-------\n",
            "add : ndarray or scalar\n",
            "    The sum of `x1` and `x2`, element-wise.\n",
            "    This is a scalar if both `x1` and `x2` are scalars.\n",
            "\n",
            "Notes\n",
            "-----\n",
            "Equivalent to `x1` + `x2` in terms of array broadcasting.\n",
            "\n",
            "Examples\n",
            "--------\n",
            ">>> np.add(1.0, 4.0)\n",
            "5.0\n",
            ">>> x1 = np.arange(9.0).reshape((3, 3))\n",
            ">>> x2 = np.arange(3.0)\n",
            ">>> np.add(x1, x2)\n",
            "array([[  0.,   2.,   4.],\n",
            "       [  3.,   5.,   7.],\n",
            "       [  6.,   8.,  10.]])\n",
            "\n",
            "The ``+`` operator can be used as a shorthand for ``np.add`` on ndarrays.\n",
            "\n",
            ">>> x1 = np.arange(9.0).reshape((3, 3))\n",
            ">>> x2 = np.arange(3.0)\n",
            ">>> x1 + x2\n",
            "array([[ 0.,  2.,  4.],\n",
            "       [ 3.,  5.,  7.],\n",
            "       [ 6.,  8., 10.]])\n"
          ]
        }
      ]
    },
    {
      "cell_type": "code",
      "source": [
        "# Create a null vector of size 10 but the fifth value which is 1\n",
        "\n",
        "X = np.zeros(10)\n",
        "X[4] = 1\n",
        "print(X)"
      ],
      "metadata": {
        "id": "wUaJoaKUYJLi",
        "colab": {
          "base_uri": "https://localhost:8080/"
        },
        "outputId": "8f049f5e-6f91-4a6f-abfd-1f92a45a917d"
      },
      "execution_count": 20,
      "outputs": [
        {
          "output_type": "stream",
          "name": "stdout",
          "text": [
            "[0. 0. 0. 0. 1. 0. 0. 0. 0. 0.]\n"
          ]
        }
      ]
    },
    {
      "cell_type": "code",
      "source": [
        "# vector with values ranging from 10 to 49\n",
        "\n",
        "X = np.arange(10,50)\n",
        "print(X)"
      ],
      "metadata": {
        "id": "9iPkcBiJYQE1",
        "colab": {
          "base_uri": "https://localhost:8080/"
        },
        "outputId": "03cce43f-d0e2-4862-b784-7a58b6cbe0f4"
      },
      "execution_count": 26,
      "outputs": [
        {
          "output_type": "stream",
          "name": "stdout",
          "text": [
            "[10 11 12 13 14 15 16 17 18 19 20 21 22 23 24 25 26 27 28 29 30 31 32 33\n",
            " 34 35 36 37 38 39 40 41 42 43 44 45 46 47 48 49]\n"
          ]
        }
      ]
    },
    {
      "cell_type": "code",
      "source": [
        "# reverse a vector (1st element to last)\n",
        "\n",
        "X = np.arange(50)\n",
        "X = X[::-1]\n",
        "print(X)"
      ],
      "metadata": {
        "id": "OhEXEnr_YXVK",
        "colab": {
          "base_uri": "https://localhost:8080/"
        },
        "outputId": "2b670e88-1842-42c9-f266-d17a09c37c75"
      },
      "execution_count": 29,
      "outputs": [
        {
          "output_type": "stream",
          "name": "stdout",
          "text": [
            "[49 48 47 46 45 44 43 42 41 40 39 38 37 36 35 34 33 32 31 30 29 28 27 26\n",
            " 25 24 23 22 21 20 19 18 17 16 15 14 13 12 11 10  9  8  7  6  5  4  3  2\n",
            "  1  0]\n"
          ]
        }
      ]
    },
    {
      "cell_type": "code",
      "source": [
        "# create a 3 x 3 matrix with values ranging from 0 to 8\n",
        "\n",
        "X = np.arange(9).reshape(3, 3)\n",
        "print(X)"
      ],
      "metadata": {
        "id": "oNtjrFPKYhVg",
        "colab": {
          "base_uri": "https://localhost:8080/"
        },
        "outputId": "080704ad-5fb8-4af6-d7cb-509e1c5bff5e"
      },
      "execution_count": 44,
      "outputs": [
        {
          "output_type": "stream",
          "name": "stdout",
          "text": [
            "[[0 1 2]\n",
            " [3 4 5]\n",
            " [6 7 8]]\n"
          ]
        }
      ]
    },
    {
      "cell_type": "code",
      "source": [
        "# find indices of non-zero elements from [1,2,0,0,4,0]\n",
        "\n",
        "X = np.nonzero([1,2,0,0,4,0])\n",
        "print(X)"
      ],
      "metadata": {
        "id": "xoaCunfcYsHM",
        "colab": {
          "base_uri": "https://localhost:8080/"
        },
        "outputId": "82fa57ac-daf4-47e5-de08-43f279666b6a"
      },
      "execution_count": 48,
      "outputs": [
        {
          "output_type": "stream",
          "name": "stdout",
          "text": [
            "(array([0, 1, 4]),)\n"
          ]
        }
      ]
    },
    {
      "cell_type": "code",
      "source": [
        "# create a 3 x 3 identity matrix\n",
        "\n",
        "X = np.eye(3)\n",
        "print(X)"
      ],
      "metadata": {
        "id": "G0CyXo8yY3lr",
        "colab": {
          "base_uri": "https://localhost:8080/"
        },
        "outputId": "2a39a545-5ba1-4511-91d3-079d7c2660ca"
      },
      "execution_count": 30,
      "outputs": [
        {
          "output_type": "stream",
          "name": "stdout",
          "text": [
            "[[1. 0. 0.]\n",
            " [0. 1. 0.]\n",
            " [0. 0. 1.]]\n"
          ]
        }
      ]
    },
    {
      "cell_type": "code",
      "source": [
        "# a 3 x 3 x 3 array with random values\n",
        "\n",
        "X = np.random.random([3,3,3])\n",
        "print(X)"
      ],
      "metadata": {
        "id": "8mJcHEHOY-sH",
        "colab": {
          "base_uri": "https://localhost:8080/"
        },
        "outputId": "f51d2342-de53-4a31-83e0-1bee034deb97"
      },
      "execution_count": 33,
      "outputs": [
        {
          "output_type": "stream",
          "name": "stdout",
          "text": [
            "[[[0.80679525 0.02741053 0.84576922]\n",
            "  [0.85616307 0.53203386 0.79016555]\n",
            "  [0.40909793 0.31416389 0.1510655 ]]\n",
            "\n",
            " [[0.38256203 0.90323927 0.49235712]\n",
            "  [0.90259517 0.63640648 0.51789866]\n",
            "  [0.95354573 0.09654917 0.42947864]]\n",
            "\n",
            " [[0.31139344 0.10456579 0.53944884]\n",
            "  [0.07074645 0.83842049 0.10412874]\n",
            "  [0.08090417 0.39737469 0.83332752]]]\n"
          ]
        }
      ]
    },
    {
      "cell_type": "code",
      "source": [
        "# a 10 x 10 array with random values, find min and max values\n",
        "\n",
        "X = np.random.random([10,10])\n",
        "print(X)"
      ],
      "metadata": {
        "id": "8ysLoHz4ZRMn",
        "colab": {
          "base_uri": "https://localhost:8080/"
        },
        "outputId": "8c2e28bf-bfe0-4f0e-deeb-cebabfb4fba0"
      },
      "execution_count": 34,
      "outputs": [
        {
          "output_type": "stream",
          "name": "stdout",
          "text": [
            "[[0.31781051 0.60614724 0.88078865 0.88121223 0.82194366 0.96607016\n",
            "  0.08366673 0.93726635 0.33540391 0.41778428]\n",
            " [0.14156376 0.78710481 0.06963046 0.73758693 0.27968413 0.84366417\n",
            "  0.19879765 0.84367029 0.06661681 0.2383416 ]\n",
            " [0.2564442  0.35195591 0.17552954 0.67084269 0.0607959  0.58139388\n",
            "  0.39003612 0.42339355 0.06210125 0.62551327]\n",
            " [0.09186208 0.39419968 0.69504839 0.73943852 0.73254611 0.2685858\n",
            "  0.13124228 0.93478078 0.58376231 0.98334416]\n",
            " [0.25362952 0.14378704 0.00488529 0.83869    0.3651602  0.15743652\n",
            "  0.66172571 0.88950967 0.69019199 0.78688915]\n",
            " [0.38987606 0.42497806 0.00548959 0.12902092 0.53705745 0.97862946\n",
            "  0.1825421  0.34709742 0.05429613 0.50007594]\n",
            " [0.85227369 0.91257801 0.38336741 0.16703722 0.85486216 0.25362272\n",
            "  0.05250762 0.0934618  0.32226492 0.39825817]\n",
            " [0.63748489 0.49303328 0.35067315 0.22009735 0.54639608 0.07434945\n",
            "  0.76016613 0.27890339 0.85971143 0.09141275]\n",
            " [0.19144279 0.53869368 0.00566195 0.25300957 0.27540217 0.86577642\n",
            "  0.53571934 0.261535   0.1848244  0.51462115]\n",
            " [0.81965162 0.78850593 0.84586118 0.3881075  0.2644221  0.11654526\n",
            "  0.28833362 0.12295025 0.60950846 0.10973222]]\n"
          ]
        }
      ]
    },
    {
      "cell_type": "code",
      "source": [
        "# a random vector size of 30, find mean\n",
        "\n",
        "X = np.random.random(30)\n",
        "m = X.mean()\n",
        "#print(X)\n",
        "print(m)"
      ],
      "metadata": {
        "id": "tOXPtvCBZeZY",
        "colab": {
          "base_uri": "https://localhost:8080/"
        },
        "outputId": "3228cf2b-3bc3-4c43-f338-6f04bc3e4e1e"
      },
      "execution_count": 37,
      "outputs": [
        {
          "output_type": "stream",
          "name": "stdout",
          "text": [
            "0.5579597086633861\n"
          ]
        }
      ]
    },
    {
      "cell_type": "code",
      "source": [
        "# a 2D array with 1 on the border and 0 inside\n",
        "\n",
        "X = np.ones([10,10])\n",
        "X[1:-1,1:-1]=0\n",
        "print(X)"
      ],
      "metadata": {
        "id": "bJqeRMAdZmpf",
        "colab": {
          "base_uri": "https://localhost:8080/"
        },
        "outputId": "249b2bba-7351-4f32-d53f-667777e768d1"
      },
      "execution_count": 46,
      "outputs": [
        {
          "output_type": "stream",
          "name": "stdout",
          "text": [
            "[[1. 1. 1. 1. 1. 1. 1. 1. 1. 1.]\n",
            " [1. 0. 0. 0. 0. 0. 0. 0. 0. 1.]\n",
            " [1. 0. 0. 0. 0. 0. 0. 0. 0. 1.]\n",
            " [1. 0. 0. 0. 0. 0. 0. 0. 0. 1.]\n",
            " [1. 0. 0. 0. 0. 0. 0. 0. 0. 1.]\n",
            " [1. 0. 0. 0. 0. 0. 0. 0. 0. 1.]\n",
            " [1. 0. 0. 0. 0. 0. 0. 0. 0. 1.]\n",
            " [1. 0. 0. 0. 0. 0. 0. 0. 0. 1.]\n",
            " [1. 0. 0. 0. 0. 0. 0. 0. 0. 1.]\n",
            " [1. 1. 1. 1. 1. 1. 1. 1. 1. 1.]]\n"
          ]
        }
      ]
    }
  ]
}