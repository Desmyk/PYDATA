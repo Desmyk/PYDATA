{
  "nbformat": 4,
  "nbformat_minor": 0,
  "metadata": {
    "colab": {
      "provenance": [],
      "include_colab_link": true
    },
    "kernelspec": {
      "name": "python3",
      "display_name": "Python 3"
    },
    "language_info": {
      "name": "python"
    }
  },
  "cells": [
    {
      "cell_type": "markdown",
      "metadata": {
        "id": "view-in-github",
        "colab_type": "text"
      },
      "source": [
        "<a href=\"https://colab.research.google.com/github/Desmyk/PYDATA/blob/main/Numpy01.ipynb\" target=\"_parent\"><img src=\"https://colab.research.google.com/assets/colab-badge.svg\" alt=\"Open In Colab\"/></a>"
      ]
    },
    {
      "cell_type": "markdown",
      "source": [
        "# **Introduction to Numpy**"
      ],
      "metadata": {
        "id": "dwIeglpvKm8_"
      }
    },
    {
      "cell_type": "code",
      "execution_count": 2,
      "metadata": {
        "id": "tCwT5PUKzmwO"
      },
      "outputs": [],
      "source": [
        "import numpy as np\n"
      ]
    },
    {
      "cell_type": "code",
      "source": [
        "list1 = [2,4,6,8,10]\n",
        "list2 = [20,40,60,80,100]\n",
        "\n",
        "array = np.array(list1)\n",
        "print(array)"
      ],
      "metadata": {
        "colab": {
          "base_uri": "https://localhost:8080/"
        },
        "id": "M6MUEPGlLPyu",
        "outputId": "840c4b4f-78e2-4946-f061-68b51923fe23"
      },
      "execution_count": null,
      "outputs": [
        {
          "output_type": "stream",
          "name": "stdout",
          "text": [
            "[ 2  4  6  8 10]\n"
          ]
        }
      ]
    },
    {
      "cell_type": "code",
      "source": [
        "list1 = [2,4,6,8,10]\n",
        "list2 = [20,40,60,80,100]\n",
        "\n",
        "array = np.array(list1)\n",
        "print(array)"
      ],
      "metadata": {
        "id": "lWL1NLCFLPns",
        "outputId": "a253be3b-496a-40f4-a9c4-0ab8fd929dbe",
        "colab": {
          "base_uri": "https://localhost:8080/"
        }
      },
      "execution_count": 3,
      "outputs": [
        {
          "output_type": "stream",
          "name": "stdout",
          "text": [
            "[ 2  4  6  8 10]\n"
          ]
        }
      ]
    },
    {
      "cell_type": "code",
      "source": [],
      "metadata": {
        "id": "GJqKSbN1K1cJ"
      },
      "execution_count": null,
      "outputs": []
    }
  ]
}